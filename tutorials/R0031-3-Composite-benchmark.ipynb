{
 "cells": [
  {
   "cell_type": "markdown",
   "metadata": {},
   "source": [
    "# R0031/3 Composite plate test\n"
   ]
  },
  {
   "cell_type": "markdown",
   "metadata": {},
   "source": [
    "This is a test recommended by the National Agency for Finite Element Methods\n",
    "and Standards (U.K.): Test R0031/3 from NAFEMS publication R0031, “Composites\n",
    "Benchmarks,” February 1995. It is  a composite  (sandwich) plate of square shape, simply supported along all four edges.\n",
    "Uniform transverse loading is applied to the top skin. The modeled part is one quarter of the full plate here.\n",
    "The serendipity  quadratic hexahedra  are used, with full integration."
   ]
  },
  {
   "cell_type": "markdown",
   "metadata": {},
   "source": [
    "The solution  can be compared with the benchmark results  in the Abaqus manual \"Abaqus Benchmarks Guide\" (http://130.149.89.49:2080/v6.7/books/bmk/default.htm?startat=ch04s09anf83.html)."
   ]
  },
  {
   "cell_type": "code",
   "execution_count": 85,
   "metadata": {},
   "outputs": [],
   "source": [
    "using FinEtools\n",
    "using FinEtools.AlgoDeforLinearModule\n",
    "using PyCall"
   ]
  },
  {
   "cell_type": "markdown",
   "metadata": {},
   "source": [
    "The material parameters are specified for an orthotropic material model.  The units are attached using the `phun` function which can take the specification of the units and spits out the numerical multiplier. The skin  material:"
   ]
  },
  {
   "cell_type": "code",
   "execution_count": 86,
   "metadata": {},
   "outputs": [],
   "source": [
    "# Skin (face) material parameters\n",
    "E1s = 1.0e7*phun(\"psi\")\n",
    "E2s = 0.4e7*phun(\"psi\")\n",
    "E3s = 0.4e7*phun(\"psi\")\n",
    "nu12s = 0.3\n",
    "nu13s = 0.3\n",
    "nu23s = 0.3\n",
    "G12s = 0.1875e7*phun(\"psi\")\n",
    "G13s = 0.1875e7*phun(\"psi\")\n",
    "G23s = 0.1875e7*phun(\"psi\");"
   ]
  },
  {
   "cell_type": "markdown",
   "metadata": {},
   "source": [
    "The core material:"
   ]
  },
  {
   "cell_type": "code",
   "execution_count": 87,
   "metadata": {},
   "outputs": [],
   "source": [
    "# Core material parameters\n",
    "E1c = 10.*phun(\"psi\")\n",
    "E2c = 10.*phun(\"psi\")\n",
    "E3c = 10e4.*phun(\"psi\")\n",
    "nu12c = 0.\n",
    "nu13c = 0.\n",
    "nu23c = 0.\n",
    "G12c = 10.*phun(\"psi\")\n",
    "G13c = 3.0e4*phun(\"psi\")\n",
    "G23c = 1.2e4*phun(\"psi\");"
   ]
  },
  {
   "cell_type": "markdown",
   "metadata": {},
   "source": [
    "The magnitude  of the distributed uniform transfers loading is"
   ]
  },
  {
   "cell_type": "code",
   "execution_count": 88,
   "metadata": {},
   "outputs": [],
   "source": [
    "tmag = 100*phun(\"psi\");"
   ]
  },
  {
   "cell_type": "markdown",
   "metadata": {},
   "source": [
    "Now we generate the mesh.   The sandwich plate volume is divided  into a regular Cartesian grid in the $X$ and $Y$ direction in the plane of the plate, and  in the thickness direction  it is divided  into three layers, with each layer again subdivided into multiple  elements."
   ]
  },
  {
   "cell_type": "code",
   "execution_count": 89,
   "metadata": {},
   "outputs": [],
   "source": [
    "L = 10.0*phun(\"in\") # side of the square plate\n",
    "nL = 8 # number of elements along the side of the plate\n",
    "xs = collect(linspace(0.0, L/2, nL+1))\n",
    "ys = collect(linspace(0.0, L/2, nL+1));;"
   ]
  },
  {
   "cell_type": "markdown",
   "metadata": {},
   "source": [
    "The thicknesses are specified from the bottom of the plate: skin, core, and then again skin."
   ]
  },
  {
   "cell_type": "code",
   "execution_count": 90,
   "metadata": {},
   "outputs": [],
   "source": [
    "ts = [0.028; 0.75; 0.028]*phun(\"in\")\n",
    "nts = [2; 3;  2; ]; # number of elements through the thickness"
   ]
  },
  {
   "cell_type": "markdown",
   "metadata": {},
   "source": [
    "The `H8layeredplatex` meshing function generates the mesh and marks the elements  with a label identifying  the layer to which they belong.  We will use the label to create separate regions, with their own separate materials."
   ]
  },
  {
   "cell_type": "code",
   "execution_count": 91,
   "metadata": {},
   "outputs": [],
   "source": [
    "fens,fes = H8layeredplatex(xs, ys, ts, nts)\n",
    "fens,fes = H8toH20(fens,fes);"
   ]
  },
  {
   "cell_type": "markdown",
   "metadata": {},
   "source": [
    "The model reduction  here simply says this is a fully three-dimensional model.  The two materials are created."
   ]
  },
  {
   "cell_type": "code",
   "execution_count": 92,
   "metadata": {},
   "outputs": [],
   "source": [
    "MR = DeforModelRed3D\n",
    "skinmaterial = MatDeforElastOrtho(MR,\n",
    "  0.0, E1s, E2s, E3s,\n",
    "  nu12s, nu13s, nu23s,\n",
    "  G12s, G13s, G23s,\n",
    "  0.0, 0.0, 0.0)\n",
    "corematerial = MatDeforElastOrtho(MR,\n",
    "  0.0, E1c, E2c, E3c,\n",
    "  nu12c, nu13c, nu23c,\n",
    "  G12c, G13c, G23c,\n",
    "  0.0, 0.0, 0.0);"
   ]
  },
  {
   "cell_type": "markdown",
   "metadata": {},
   "source": [
    "Now we are ready to create three material regions:  one for the bottom skin, one for the core, and one for the top skin.\n",
    "The selection of elements assigned to each of the three regions is based on the label. Full Gauss quadrature  is used. "
   ]
  },
  {
   "cell_type": "code",
   "execution_count": 93,
   "metadata": {},
   "outputs": [],
   "source": [
    "rl1 = selectelem(fens, fes, label=1)\n",
    "skinbot = FDataDict(\"femm\"=>FEMMDeforLinear(MR,\n",
    "    IntegData(subset(fes, rl1), GaussRule(3, 3)), skinmaterial))\n",
    "\n",
    "rl3 = selectelem(fens, fes, label=3)\n",
    "skintop = FDataDict(\"femm\"=>FEMMDeforLinear(MR,\n",
    "    IntegData(subset(fes, rl3), GaussRule(3, 3)), skinmaterial))\n",
    "\n",
    "rl2 = selectelem(fens, fes, label=2)\n",
    "core = FDataDict(\"femm\"=>FEMMDeforLinear(MR,\n",
    "    IntegData(subset(fes, rl2), GaussRule(3, 3)), corematerial));"
   ]
  },
  {
   "cell_type": "markdown",
   "metadata": {},
   "source": [
    "Note that since we did not specify the material coordinate system,  the default is assumed  (which is identical to the global Cartesian coordinate system)."
   ]
  },
  {
   "cell_type": "code",
   "execution_count": 94,
   "metadata": {},
   "outputs": [
    {
     "data": {
      "text/plain": [
       "FinEtools.CSysModule.CSys{FinEtools.CSysModule.#updatebuffer!#1}(true, false, FinEtools.CSysModule.updatebuffer!, [1.0 0.0 0.0; 0.0 1.0 0.0; 0.0 0.0 1.0])"
      ]
     },
     "execution_count": 94,
     "metadata": {},
     "output_type": "execute_result"
    }
   ],
   "source": [
    "skinbot[\"femm\"].mcsys"
   ]
  },
  {
   "cell_type": "markdown",
   "metadata": {},
   "source": [
    "Next we select the nodes to which  essential boundary conditions  will be applied.  A node is selected  if it is within the specified box  which for the purpose of the test  is inflated in all directions by `tolerance`. The  nodes on the planes of symmetry need to be selected, and also  the nodes  along the edges (faces) to be simply supported  need to be identified."
   ]
  },
  {
   "cell_type": "code",
   "execution_count": 95,
   "metadata": {},
   "outputs": [],
   "source": [
    "tolerance = 0.0001*phun(\"in\")\n",
    "lx0 = selectnode(fens, box=[0.0 0.0 -Inf Inf -Inf Inf], inflate=tolerance)\n",
    "lxL2 = selectnode(fens, box=[L/2 L/2 -Inf Inf -Inf Inf], inflate=tolerance)\n",
    "ly0 = selectnode(fens, box=[-Inf Inf 0.0 0.0 -Inf Inf], inflate=tolerance)\n",
    "lyL2 = selectnode(fens, box=[-Inf Inf L/2 L/2 -Inf Inf], inflate=tolerance);"
   ]
  },
  {
   "cell_type": "markdown",
   "metadata": {},
   "source": [
    "We have four sides  of the quarter of the plate, two on each plane of symmetry, and two  along the circumference. Hence we create  four essential boundary condition definitions."
   ]
  },
  {
   "cell_type": "code",
   "execution_count": 96,
   "metadata": {},
   "outputs": [],
   "source": [
    "ex0 = FDataDict( \"displacement\"=>  0.0, \"component\"=> 3, \"node_list\"=>lx0 )\n",
    "exL2 = FDataDict( \"displacement\"=>  0.0, \"component\"=> 1, \"node_list\"=>lxL2 )\n",
    "ey0 = FDataDict( \"displacement\"=>  0.0, \"component\"=> 3, \"node_list\"=>ly0 )\n",
    "eyL2 = FDataDict( \"displacement\"=>  0.0, \"component\"=> 2, \"node_list\"=>lyL2 );"
   ]
  },
  {
   "cell_type": "markdown",
   "metadata": {},
   "source": [
    "The traction on the top surface of the top skin is applied to the subset  of the surface mesh of the entire domain.\n",
    "First we find the  boundary mesh, and then from the boundary mesh we select the faces that  \"face\" upward (along the positive $Z$ axis)."
   ]
  },
  {
   "cell_type": "code",
   "execution_count": 97,
   "metadata": {},
   "outputs": [],
   "source": [
    "bfes = meshboundary(fes)\n",
    "ttopl = selectelem(fens, bfes; facing=true, direction = [0.0 0.0 1.0])\n",
    "Trac = FDataDict(\"traction_vector\"=>[0.0; 0.0; -tmag],\n",
    "    \"femm\"=>FEMMBase(IntegData(subset(bfes, ttopl), GaussRule(2, 3))));"
   ]
  },
  {
   "cell_type": "markdown",
   "metadata": {},
   "source": [
    "The model data  is composed of the  finite element nodes, an array  of the regions, an array of the essential boundary condition definitions, and  an array of  the traction (natural) boundary condition definitions."
   ]
  },
  {
   "cell_type": "code",
   "execution_count": 98,
   "metadata": {},
   "outputs": [],
   "source": [
    "modeldata = FDataDict(\"fens\"=>fens,\n",
    " \"regions\"=>[skinbot, core, skintop], \"essential_bcs\"=>[ex0, exL2, ey0, eyL2],\n",
    " \"traction_bcs\"=> [Trac]\n",
    " );"
   ]
  },
  {
   "cell_type": "markdown",
   "metadata": {},
   "source": [
    "With the model data assembled,  we can now call the algorithm."
   ]
  },
  {
   "cell_type": "code",
   "execution_count": 99,
   "metadata": {},
   "outputs": [],
   "source": [
    "modeldata = AlgoDeforLinearModule.linearstatics(modeldata);"
   ]
  },
  {
   "cell_type": "markdown",
   "metadata": {},
   "source": [
    "The  computed solution can now be postprocessed. The displacement is reported at the center of the plate, along the line in the direction of the loading. We select all the nodes along this line."
   ]
  },
  {
   "cell_type": "code",
   "execution_count": 100,
   "metadata": {
    "scrolled": true
   },
   "outputs": [],
   "source": [
    "u = modeldata[\"u\"]\n",
    "geom = modeldata[\"geom\"]\n",
    "lcenter = selectnode(fens, box=[L/2 L/2  L/2 L/2 -Inf Inf], inflate=tolerance);"
   ]
  },
  {
   "cell_type": "markdown",
   "metadata": {},
   "source": [
    "The variation of the displacement along this line  can be plotted  as (the bottom surface of the shell is at $Z=0$):"
   ]
  },
  {
   "cell_type": "code",
   "execution_count": 101,
   "metadata": {},
   "outputs": [],
   "source": [
    "@pyimport matplotlib.pyplot as plt\n",
    "plt.style[:use](\"seaborn-whitegrid\")\n",
    "fig = plt.figure() \n",
    "ax = plt.axes()\n",
    "ix = sortperm(geom.values[lcenter, 3])\n",
    "ax[:plot](geom.values[lcenter, 3][ix], u.values[lcenter, 3][ix]/phun(\"in\"))\n",
    "ax[:set_xlabel](\"Z  coordinate [in]\")\n",
    "ax[:set_ylabel](\"Vertical displacement [in]\")\n",
    "plt.legend()\n",
    "plt.show()"
   ]
  },
  {
   "cell_type": "markdown",
   "metadata": {},
   "source": [
    "A reasonable single number to report for the deflection at the center is the average of the displacements at the nodes at the center of the plate:"
   ]
  },
  {
   "cell_type": "code",
   "execution_count": 102,
   "metadata": {},
   "outputs": [
    {
     "name": "stdout",
     "output_type": "stream",
     "text": [
      "Center node displacements -0.1363480033020853 [in]; NAFEMS-R0031-3 reference: –0.123 [in]\n"
     ]
    }
   ],
   "source": [
    "cdis = mean(u.values[lcenter, 3])/phun(\"in\");\n",
    "println(\"Center node displacements $(cdis) [in]; NAFEMS-R0031-3 reference: –0.123 [in]\")"
   ]
  },
  {
   "cell_type": "markdown",
   "metadata": {},
   "source": [
    "The reference displacement at the center of -0.123 [in] reported for the benchmark is due to an analytical formulation that neglects transverse  (pinching) deformation. Due to the soft core, significant pinching is observed. The solution to the benchmark  obtained in Abaqus  with incompatible hexahedral elements (with the same number of elements as in the stacked continuum shell solution) is -0.131 [in], so close to our own solution."
   ]
  },
  {
   "cell_type": "markdown",
   "metadata": {},
   "source": [
    "The deformed shape can be investigated  visually in `paraview` (uncomment the line at the bottom if you have `paraview` in your  PATH):"
   ]
  },
  {
   "cell_type": "code",
   "execution_count": 103,
   "metadata": {},
   "outputs": [],
   "source": [
    "File =  \"NAFEMS-R0031-3-plate.vtk\"\n",
    "vtkexportmesh(File, connasarray(fes), geom.values, FinEtools.MeshExportModule.H20;\n",
    "    scalars = [(\"Layer\", fes.label)], vectors = [(\"displacement\", u.values)])\n",
    "# @async run(`\"paraview.exe\" $File`);"
   ]
  },
  {
   "cell_type": "markdown",
   "metadata": {},
   "source": [
    "Note that the  VTK file will contain element labels (which can help us distinguish between the layers) as scalar field, and the displacements as a vector field."
   ]
  }
 ],
 "metadata": {
  "kernelspec": {
   "display_name": "Julia 0.6.1",
   "language": "julia",
   "name": "julia-0.6"
  },
  "language_info": {
   "file_extension": ".jl",
   "mimetype": "application/julia",
   "name": "julia",
   "version": "0.6.1"
  }
 },
 "nbformat": 4,
 "nbformat_minor": 2
}
