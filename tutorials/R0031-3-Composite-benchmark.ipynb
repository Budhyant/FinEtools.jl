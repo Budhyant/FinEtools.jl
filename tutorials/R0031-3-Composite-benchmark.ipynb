{
 "cells": [
  {
   "cell_type": "markdown",
   "metadata": {},
   "source": [
    "# R0031/3 Composite plate test\n"
   ]
  },
  {
   "cell_type": "markdown",
   "metadata": {},
   "source": [
    "This is a test recommended by the National Agency for Finite Element Methods\n",
    "and Standards (U.K.): Test R0031/3 from NAFEMS publication R0031, “Composites\n",
    "Benchmarks,” February 1995. It is  a composite  (sandwich) plate of square shape, simply supported along all four edges.\n",
    "Uniform transverse loading is applied to the top skin. The modeled part is one quarter of the full plate here.\n",
    "The serendipity  quadratic hexahedra  are used, with full integration."
   ]
  },
  {
   "cell_type": "markdown",
   "metadata": {},
   "source": [
    "The solution  can be compared with the benchmark results  in the Abaqus manual \"Abaqus Benchmarks Guide\" (http://130.149.89.49:2080/v6.7/books/bmk/default.htm?startat=ch04s09anf83.html)."
   ]
  },
  {
   "cell_type": "code",
   "execution_count": 20,
   "metadata": {
    "collapsed": true
   },
   "outputs": [],
   "source": [
    "using FinEtools\n",
    "using FinEtools.AlgoDeforLinearModule"
   ]
  },
  {
   "cell_type": "markdown",
   "metadata": {},
   "source": [
    "The material parameters are specified for an orthotropic material model.  The units are attached using the `phun` function which can take the specification of the units and spits out the numerical multiplier. The skin  material:"
   ]
  },
  {
   "cell_type": "code",
   "execution_count": 21,
   "metadata": {
    "collapsed": true
   },
   "outputs": [],
   "source": [
    "# Skin (face) material parameters\n",
    "E1s = 1.0e7*phun(\"psi\")\n",
    "E2s = 0.4e7*phun(\"psi\")\n",
    "E3s = 0.4e7*phun(\"psi\")\n",
    "nu12s = 0.3\n",
    "nu13s = 0.3\n",
    "nu23s = 0.3\n",
    "G12s = 0.1875e7*phun(\"psi\")\n",
    "G13s = 0.1875e7*phun(\"psi\")\n",
    "G23s = 0.1875e7*phun(\"psi\");"
   ]
  },
  {
   "cell_type": "markdown",
   "metadata": {},
   "source": [
    "The core material:"
   ]
  },
  {
   "cell_type": "code",
   "execution_count": 22,
   "metadata": {
    "collapsed": true
   },
   "outputs": [],
   "source": [
    "# Core material parameters\n",
    "E1c = 10.*phun(\"psi\")\n",
    "E2c = 10.*phun(\"psi\")\n",
    "E3c = 10e4.*phun(\"psi\")\n",
    "nu12c = 0.\n",
    "nu13c = 0.\n",
    "nu23c = 0.\n",
    "G12c = 10.*phun(\"psi\")\n",
    "G13c = 3.0e4*phun(\"psi\")\n",
    "G23c = 1.2e4*phun(\"psi\");"
   ]
  },
  {
   "cell_type": "markdown",
   "metadata": {},
   "source": [
    "The magnitude  of the distributed uniform transfers loading is"
   ]
  },
  {
   "cell_type": "code",
   "execution_count": 23,
   "metadata": {
    "collapsed": true
   },
   "outputs": [],
   "source": [
    "tmag = 100*phun(\"psi\");"
   ]
  },
  {
   "cell_type": "markdown",
   "metadata": {},
   "source": [
    "Now we generate the mesh.   The sandwich plate volume is divided  into a regular Cartesian grid in the $X$ and $Y$ direction in the plane of the plate, and  in the thickness direction  it is divided  into three layers, with each layer again subdivided into multiple  elements."
   ]
  },
  {
   "cell_type": "code",
   "execution_count": 24,
   "metadata": {
    "collapsed": true
   },
   "outputs": [],
   "source": [
    "L = 10.0*phun(\"in\") # side of the square plate\n",
    "nL = 8 # number of elements along the side of the plate\n",
    "xs = collect(linspace(0.0, L/2, nL+1))\n",
    "ys = collect(linspace(0.0, L/2, nL+1));;"
   ]
  },
  {
   "cell_type": "markdown",
   "metadata": {},
   "source": [
    "The thicknesses are specified from the bottom of the plate: skin, core, and then again skin."
   ]
  },
  {
   "cell_type": "code",
   "execution_count": 25,
   "metadata": {
    "collapsed": true
   },
   "outputs": [],
   "source": [
    "ts = [0.028; 0.75; 0.028]*phun(\"in\")\n",
    "nts = [2; 3;  2; ]; # number of elements through the thickness"
   ]
  },
  {
   "cell_type": "markdown",
   "metadata": {},
   "source": [
    "The `H8layeredplatex` meshing function generates the mesh and marks the elements  with a label identifying  the layer to which they belong.  We will use the label to create separate regions, with their own separate materials."
   ]
  },
  {
   "cell_type": "code",
   "execution_count": 26,
   "metadata": {
    "collapsed": true
   },
   "outputs": [],
   "source": [
    "fens,fes = H8layeredplatex(xs, ys, ts, nts)\n",
    "fens,fes = H8toH20(fens,fes);"
   ]
  },
  {
   "cell_type": "markdown",
   "metadata": {},
   "source": [
    "The model reduction  here simply says this is a fully three-dimensional model.  The two materials are created."
   ]
  },
  {
   "cell_type": "code",
   "execution_count": 27,
   "metadata": {
    "collapsed": true
   },
   "outputs": [],
   "source": [
    "MR = DeforModelRed3D\n",
    "skinmaterial = MatDeforElastOrtho(MR,\n",
    "  0.0, E1s, E2s, E3s,\n",
    "  nu12s, nu13s, nu23s,\n",
    "  G12s, G13s, G23s,\n",
    "  0.0, 0.0, 0.0)\n",
    "corematerial = MatDeforElastOrtho(MR,\n",
    "  0.0, E1c, E2c, E3c,\n",
    "  nu12c, nu13c, nu23c,\n",
    "  G12c, G13c, G23c,\n",
    "  0.0, 0.0, 0.0);"
   ]
  },
  {
   "cell_type": "markdown",
   "metadata": {},
   "source": [
    "Now we are ready to create three material regions:  one for the bottom skin, one for the core, and one for the top skin.\n",
    "The selection of elements assigned to each of the three regions is based on the label. Full Gauss quadrature  is used. "
   ]
  },
  {
   "cell_type": "code",
   "execution_count": 28,
   "metadata": {
    "collapsed": true
   },
   "outputs": [],
   "source": [
    "rl1 = selectelem(fens, fes, label=1)\n",
    "skinbot = FDataDict(\"femm\"=>FEMMDeforLinear(MR,\n",
    "    IntegData(subset(fes, rl1), GaussRule(3, 3)), skinmaterial))\n",
    "\n",
    "rl3 = selectelem(fens, fes, label=3)\n",
    "skintop = FDataDict(\"femm\"=>FEMMDeforLinear(MR,\n",
    "    IntegData(subset(fes, rl3), GaussRule(3, 3)), skinmaterial))\n",
    "\n",
    "rl2 = selectelem(fens, fes, label=2)\n",
    "core = FDataDict(\"femm\"=>FEMMDeforLinear(MR,\n",
    "    IntegData(subset(fes, rl2), GaussRule(3, 3)), corematerial));"
   ]
  },
  {
   "cell_type": "markdown",
   "metadata": {},
   "source": [
    "Note that since we did not specify the material coordinate system,  the default is assumed  (which is identical to the global Cartesian coordinate system)."
   ]
  },
  {
   "cell_type": "code",
   "execution_count": 29,
   "metadata": {},
   "outputs": [
    {
     "data": {
      "text/plain": [
       "FinEtools.IntegDataModule.integdata{FinEtools.FESetModule.FESetH20,FinEtools.IntegDataModule.#otherdimensionunity}(FinEtools.FESetModule.FESetH20(20, [1 2 … 1928 1929; 82 83 … 1932 1933; … ; 71 72 … 2366 2314; 152 153 … 2367 2315], [1, 1, 1, 1, 1, 1, 1, 1, 1, 1  …  1, 1, 1, 1, 1, 1, 1, 1, 1, 1]), FinEtools.IntegRuleModule.GaussRule(3, 3, 27, [-0.774597 -0.774597 -0.774597; -0.774597 -0.774597 0.0; … ; 0.774597 0.774597 0.0; 0.774597 0.774597 0.774597], [0.171468; 0.274348; … ; 0.274348; 0.171468]), FinEtools.CSysModule.CSys{FinEtools.CSysModule.#updatebuffer!#1}(true, false, FinEtools.CSysModule.updatebuffer!, [1.0 0.0 0.0; 0.0 1.0 0.0; 0.0 0.0 1.0]), FinEtools.IntegDataModule.otherdimensionunity, false)"
      ]
     },
     "execution_count": 29,
     "metadata": {},
     "output_type": "execute_result"
    }
   ],
   "source": [
    "skinbot[\"femm\"].integdata"
   ]
  },
  {
   "cell_type": "markdown",
   "metadata": {},
   "source": [
    "Refer to the bit \"`...FinEtools.CSysModule.updatebuffer!, [1.0 0.0 0.0; 0.0 1.0 0.0; 0.0 0.0 1.0]), ...`\"."
   ]
  },
  {
   "cell_type": "markdown",
   "metadata": {},
   "source": [
    "Next we select the nodes to which  essential boundary conditions  will be applied.  A node is selected  if it is within the specified box  which for the purpose of the test  is inflated in all directions by `tolerance`. The  nodes on the planes of symmetry need to be selected, and also  the nodes  along the edges (faces) to be simply supported  need to be identified."
   ]
  },
  {
   "cell_type": "code",
   "execution_count": 30,
   "metadata": {
    "collapsed": true
   },
   "outputs": [],
   "source": [
    "tolerance = 0.0001*phun(\"in\")\n",
    "lx0 = selectnode(fens, box=[0.0 0.0 -Inf Inf -Inf Inf], inflate=tolerance)\n",
    "lxL2 = selectnode(fens, box=[L/2 L/2 -Inf Inf -Inf Inf], inflate=tolerance)\n",
    "ly0 = selectnode(fens, box=[-Inf Inf 0.0 0.0 -Inf Inf], inflate=tolerance)\n",
    "lyL2 = selectnode(fens, box=[-Inf Inf L/2 L/2 -Inf Inf], inflate=tolerance);"
   ]
  },
  {
   "cell_type": "markdown",
   "metadata": {},
   "source": [
    "We have four sides  of the quarter of the plate, two on each plane of symmetry, and two  along the circumference. Hence we create  four essential boundary condition definitions."
   ]
  },
  {
   "cell_type": "code",
   "execution_count": 31,
   "metadata": {
    "collapsed": true
   },
   "outputs": [],
   "source": [
    "ex0 = FDataDict( \"displacement\"=>  0.0, \"component\"=> 3, \"node_list\"=>lx0 )\n",
    "exL2 = FDataDict( \"displacement\"=>  0.0, \"component\"=> 1, \"node_list\"=>lxL2 )\n",
    "ey0 = FDataDict( \"displacement\"=>  0.0, \"component\"=> 3, \"node_list\"=>ly0 )\n",
    "eyL2 = FDataDict( \"displacement\"=>  0.0, \"component\"=> 2, \"node_list\"=>lyL2 );"
   ]
  },
  {
   "cell_type": "markdown",
   "metadata": {},
   "source": [
    "The traction on the top surface of the top skin is applied to the subset  of the surface mesh of the entire domain.\n",
    "First we find the  boundary mesh, and then from the boundary mesh we select the faces that  \"face\" upward (along the positive $Z$ axis)."
   ]
  },
  {
   "cell_type": "code",
   "execution_count": 32,
   "metadata": {
    "collapsed": true
   },
   "outputs": [],
   "source": [
    "bfes = meshboundary(fes)\n",
    "ttopl = selectelem(fens, bfes; facing=true, direction = [0.0 0.0 1.0])\n",
    "Trac = FDataDict(\"traction_vector\"=>[0.0; 0.0; -tmag],\n",
    "    \"femm\"=>FEMMBase(IntegData(subset(bfes, ttopl), GaussRule(2, 3))));"
   ]
  },
  {
   "cell_type": "markdown",
   "metadata": {},
   "source": [
    "The model data  is composed of the  finite element nodes, an array  of the regions, an array of the essential boundary condition definitions, and  an array of  the traction (natural) boundary condition definitions."
   ]
  },
  {
   "cell_type": "code",
   "execution_count": 33,
   "metadata": {
    "collapsed": true
   },
   "outputs": [],
   "source": [
    "modeldata = FDataDict(\"fens\"=>fens,\n",
    " \"regions\"=>[skinbot, core, skintop], \"essential_bcs\"=>[ex0, exL2, ey0, eyL2],\n",
    " \"traction_bcs\"=> [Trac]\n",
    " );"
   ]
  },
  {
   "cell_type": "markdown",
   "metadata": {},
   "source": [
    "With the model data assembled,  we can now call the algorithm."
   ]
  },
  {
   "cell_type": "code",
   "execution_count": 34,
   "metadata": {
    "collapsed": true
   },
   "outputs": [],
   "source": [
    "modeldata = AlgoDeforLinearModule.linearstatics(modeldata);"
   ]
  },
  {
   "cell_type": "markdown",
   "metadata": {},
   "source": [
    "The  computed solution can now be postprocessed. The displacement is reported at the center of the plate, along the line in the direction of the loading. We select all the nodes along this line."
   ]
  },
  {
   "cell_type": "code",
   "execution_count": 35,
   "metadata": {
    "collapsed": true,
    "scrolled": true
   },
   "outputs": [],
   "source": [
    "u = modeldata[\"u\"]\n",
    "geom = modeldata[\"geom\"]\n",
    "lcenter = selectnode(fens, box=[L/2 L/2  L/2 L/2 -Inf Inf], inflate=tolerance);"
   ]
  },
  {
   "cell_type": "markdown",
   "metadata": {},
   "source": [
    "The variation of the displacement along this line  can be plotted  as (the bottom surface of the shell is at $Z=0$):"
   ]
  },
  {
   "cell_type": "code",
   "execution_count": 36,
   "metadata": {},
   "outputs": [
    {
     "data": {
      "text/html": [
       "<?xml version=\"1.0\" encoding=\"utf-8\"?>\n",
       "<svg xmlns=\"http://www.w3.org/2000/svg\" xmlns:xlink=\"http://www.w3.org/1999/xlink\" width=\"600\" height=\"400\" viewBox=\"0 0 600 400\">\n",
       "<defs>\n",
       "  <clipPath id=\"clip00\">\n",
       "    <rect x=\"0\" y=\"0\" width=\"600\" height=\"400\"/>\n",
       "  </clipPath>\n",
       "</defs>\n",
       "<polygon clip-path=\"url(#clip00)\" points=\"\n",
       "0,400 600,400 600,0 0,0 \n",
       "  \" fill=\"#ffffff\" fill-opacity=\"1\"/>\n",
       "<defs>\n",
       "  <clipPath id=\"clip01\">\n",
       "    <rect x=\"120\" y=\"0\" width=\"421\" height=\"400\"/>\n",
       "  </clipPath>\n",
       "</defs>\n",
       "<polygon clip-path=\"url(#clip00)\" points=\"\n",
       "39.3701,368.504 592.126,368.504 592.126,7.87402 39.3701,7.87402 \n",
       "  \" fill=\"#ffffff\" fill-opacity=\"1\"/>\n",
       "<defs>\n",
       "  <clipPath id=\"clip02\">\n",
       "    <rect x=\"39\" y=\"7\" width=\"554\" height=\"362\"/>\n",
       "  </clipPath>\n",
       "</defs>\n",
       "<polyline clip-path=\"url(#clip02)\" style=\"stroke:#000000; stroke-width:1; stroke-opacity:0.5; fill:none\" stroke-dasharray=\"1, 2\" points=\"\n",
       "  39.3701,363.094 39.3701,13.2835 \n",
       "  \"/>\n",
       "<polyline clip-path=\"url(#clip02)\" style=\"stroke:#000000; stroke-width:1; stroke-opacity:0.5; fill:none\" stroke-dasharray=\"1, 2\" points=\"\n",
       "  174.37,363.094 174.37,13.2835 \n",
       "  \"/>\n",
       "<polyline clip-path=\"url(#clip02)\" style=\"stroke:#000000; stroke-width:1; stroke-opacity:0.5; fill:none\" stroke-dasharray=\"1, 2\" points=\"\n",
       "  309.371,363.094 309.371,13.2835 \n",
       "  \"/>\n",
       "<polyline clip-path=\"url(#clip02)\" style=\"stroke:#000000; stroke-width:1; stroke-opacity:0.5; fill:none\" stroke-dasharray=\"1, 2\" points=\"\n",
       "  444.371,363.094 444.371,13.2835 \n",
       "  \"/>\n",
       "<polyline clip-path=\"url(#clip02)\" style=\"stroke:#000000; stroke-width:1; stroke-opacity:0.5; fill:none\" stroke-dasharray=\"1, 2\" points=\"\n",
       "  579.371,363.094 579.371,13.2835 \n",
       "  \"/>\n",
       "<polyline clip-path=\"url(#clip02)\" style=\"stroke:#000000; stroke-width:1; stroke-opacity:0.5; fill:none\" stroke-dasharray=\"1, 2\" points=\"\n",
       "  47.6614,302.736 583.835,302.736 \n",
       "  \"/>\n",
       "<polyline clip-path=\"url(#clip02)\" style=\"stroke:#000000; stroke-width:1; stroke-opacity:0.5; fill:none\" stroke-dasharray=\"1, 2\" points=\"\n",
       "  47.6614,220.838 583.835,220.838 \n",
       "  \"/>\n",
       "<polyline clip-path=\"url(#clip02)\" style=\"stroke:#000000; stroke-width:1; stroke-opacity:0.5; fill:none\" stroke-dasharray=\"1, 2\" points=\"\n",
       "  47.6614,138.94 583.835,138.94 \n",
       "  \"/>\n",
       "<polyline clip-path=\"url(#clip02)\" style=\"stroke:#000000; stroke-width:1; stroke-opacity:0.5; fill:none\" stroke-dasharray=\"1, 2\" points=\"\n",
       "  47.6614,57.0424 583.835,57.0424 \n",
       "  \"/>\n",
       "<polyline clip-path=\"url(#clip00)\" style=\"stroke:#000000; stroke-width:1; stroke-opacity:1; fill:none\" points=\"\n",
       "  39.3701,368.504 592.126,368.504 \n",
       "  \"/>\n",
       "<polyline clip-path=\"url(#clip00)\" style=\"stroke:#000000; stroke-width:1; stroke-opacity:1; fill:none\" points=\"\n",
       "  39.3701,368.504 39.3701,363.094 \n",
       "  \"/>\n",
       "<polyline clip-path=\"url(#clip00)\" style=\"stroke:#000000; stroke-width:1; stroke-opacity:1; fill:none\" points=\"\n",
       "  174.37,368.504 174.37,363.094 \n",
       "  \"/>\n",
       "<polyline clip-path=\"url(#clip00)\" style=\"stroke:#000000; stroke-width:1; stroke-opacity:1; fill:none\" points=\"\n",
       "  309.371,368.504 309.371,363.094 \n",
       "  \"/>\n",
       "<polyline clip-path=\"url(#clip00)\" style=\"stroke:#000000; stroke-width:1; stroke-opacity:1; fill:none\" points=\"\n",
       "  444.371,368.504 444.371,363.094 \n",
       "  \"/>\n",
       "<polyline clip-path=\"url(#clip00)\" style=\"stroke:#000000; stroke-width:1; stroke-opacity:1; fill:none\" points=\"\n",
       "  579.371,368.504 579.371,363.094 \n",
       "  \"/>\n",
       "<polyline clip-path=\"url(#clip00)\" style=\"stroke:#000000; stroke-width:1; stroke-opacity:1; fill:none\" points=\"\n",
       "  39.3701,368.504 39.3701,7.87402 \n",
       "  \"/>\n",
       "<polyline clip-path=\"url(#clip00)\" style=\"stroke:#000000; stroke-width:1; stroke-opacity:1; fill:none\" points=\"\n",
       "  39.3701,302.736 47.6614,302.736 \n",
       "  \"/>\n",
       "<polyline clip-path=\"url(#clip00)\" style=\"stroke:#000000; stroke-width:1; stroke-opacity:1; fill:none\" points=\"\n",
       "  39.3701,220.838 47.6614,220.838 \n",
       "  \"/>\n",
       "<polyline clip-path=\"url(#clip00)\" style=\"stroke:#000000; stroke-width:1; stroke-opacity:1; fill:none\" points=\"\n",
       "  39.3701,138.94 47.6614,138.94 \n",
       "  \"/>\n",
       "<polyline clip-path=\"url(#clip00)\" style=\"stroke:#000000; stroke-width:1; stroke-opacity:1; fill:none\" points=\"\n",
       "  39.3701,57.0424 47.6614,57.0424 \n",
       "  \"/>\n",
       "<g clip-path=\"url(#clip00)\">\n",
       "<text style=\"fill:#000000; fill-opacity:1; font-family:Arial,Helvetica Neue,Helvetica,sans-serif; font-size:12; text-anchor:middle;\" transform=\"rotate(0, 39.3701, 382.304)\" x=\"39.3701\" y=\"382.304\">0.000</text>\n",
       "</g>\n",
       "<g clip-path=\"url(#clip00)\">\n",
       "<text style=\"fill:#000000; fill-opacity:1; font-family:Arial,Helvetica Neue,Helvetica,sans-serif; font-size:12; text-anchor:middle;\" transform=\"rotate(0, 174.37, 382.304)\" x=\"174.37\" y=\"382.304\">0.005</text>\n",
       "</g>\n",
       "<g clip-path=\"url(#clip00)\">\n",
       "<text style=\"fill:#000000; fill-opacity:1; font-family:Arial,Helvetica Neue,Helvetica,sans-serif; font-size:12; text-anchor:middle;\" transform=\"rotate(0, 309.371, 382.304)\" x=\"309.371\" y=\"382.304\">0.010</text>\n",
       "</g>\n",
       "<g clip-path=\"url(#clip00)\">\n",
       "<text style=\"fill:#000000; fill-opacity:1; font-family:Arial,Helvetica Neue,Helvetica,sans-serif; font-size:12; text-anchor:middle;\" transform=\"rotate(0, 444.371, 382.304)\" x=\"444.371\" y=\"382.304\">0.015</text>\n",
       "</g>\n",
       "<g clip-path=\"url(#clip00)\">\n",
       "<text style=\"fill:#000000; fill-opacity:1; font-family:Arial,Helvetica Neue,Helvetica,sans-serif; font-size:12; text-anchor:middle;\" transform=\"rotate(0, 579.371, 382.304)\" x=\"579.371\" y=\"382.304\">0.020</text>\n",
       "</g>\n",
       "<g clip-path=\"url(#clip00)\">\n",
       "<text style=\"fill:#000000; fill-opacity:1; font-family:Arial,Helvetica Neue,Helvetica,sans-serif; font-size:12; text-anchor:end;\" transform=\"rotate(0, 33.3701, 307.236)\" x=\"33.3701\" y=\"307.236\">-0.1365</text>\n",
       "</g>\n",
       "<g clip-path=\"url(#clip00)\">\n",
       "<text style=\"fill:#000000; fill-opacity:1; font-family:Arial,Helvetica Neue,Helvetica,sans-serif; font-size:12; text-anchor:end;\" transform=\"rotate(0, 33.3701, 225.338)\" x=\"33.3701\" y=\"225.338\">-0.1364</text>\n",
       "</g>\n",
       "<g clip-path=\"url(#clip00)\">\n",
       "<text style=\"fill:#000000; fill-opacity:1; font-family:Arial,Helvetica Neue,Helvetica,sans-serif; font-size:12; text-anchor:end;\" transform=\"rotate(0, 33.3701, 143.44)\" x=\"33.3701\" y=\"143.44\">-0.1363</text>\n",
       "</g>\n",
       "<g clip-path=\"url(#clip00)\">\n",
       "<text style=\"fill:#000000; fill-opacity:1; font-family:Arial,Helvetica Neue,Helvetica,sans-serif; font-size:12; text-anchor:end;\" transform=\"rotate(0, 33.3701, 61.5424)\" x=\"33.3701\" y=\"61.5424\">-0.1362</text>\n",
       "</g>\n",
       "<g clip-path=\"url(#clip00)\">\n",
       "<text style=\"fill:#000000; fill-opacity:1; font-family:Arial,Helvetica Neue,Helvetica,sans-serif; font-size:16; text-anchor:middle;\" transform=\"rotate(0, 315.748, 397.6)\" x=\"315.748\" y=\"397.6\">Z  coordinate [in]</text>\n",
       "</g>\n",
       "<g clip-path=\"url(#clip00)\">\n",
       "<text style=\"fill:#000000; fill-opacity:1; font-family:Arial,Helvetica Neue,Helvetica,sans-serif; font-size:16; text-anchor:middle;\" transform=\"rotate(-90, 14.4, 188.189)\" x=\"14.4\" y=\"188.189\">Vertical displacement [in]</text>\n",
       "</g>\n",
       "<polyline clip-path=\"url(#clip02)\" style=\"stroke:#009af9; stroke-width:1; stroke-opacity:1; fill:none\" points=\"\n",
       "  39.3701,7.87402 44.1707,21.7475 48.9713,35.2909 53.7719,48.5063 58.5725,61.3926 144.298,71.4982 230.023,98.0433 315.748,141.008 401.473,200.414 487.198,276.238 \n",
       "  572.924,368.504 577.724,355.761 582.525,342.688 587.325,329.288 592.126,315.558 \n",
       "  \"/>\n",
       "<polygon clip-path=\"url(#clip00)\" points=\"\n",
       "501.61,58.994 574.126,58.994 574.126,28.754 501.61,28.754 \n",
       "  \" fill=\"#ffffff\" fill-opacity=\"1\"/>\n",
       "<polyline clip-path=\"url(#clip00)\" style=\"stroke:#000000; stroke-width:1; stroke-opacity:1; fill:none\" points=\"\n",
       "  501.61,58.994 574.126,58.994 574.126,28.754 501.61,28.754 501.61,58.994 \n",
       "  \"/>\n",
       "<polyline clip-path=\"url(#clip00)\" style=\"stroke:#009af9; stroke-width:1; stroke-opacity:1; fill:none\" points=\"\n",
       "  507.61,43.874 543.61,43.874 \n",
       "  \"/>\n",
       "<g clip-path=\"url(#clip00)\">\n",
       "<text style=\"fill:#000000; fill-opacity:1; font-family:Arial,Helvetica Neue,Helvetica,sans-serif; font-size:12; text-anchor:start;\" transform=\"rotate(0, 549.61, 48.374)\" x=\"549.61\" y=\"48.374\">y1</text>\n",
       "</g>\n",
       "</svg>\n"
      ]
     },
     "execution_count": 36,
     "metadata": {},
     "output_type": "execute_result"
    }
   ],
   "source": [
    "using  Plots\n",
    "gr()\n",
    "ix = sortperm(geom.values[lcenter, 3])\n",
    "plot(geom.values[lcenter, 3][ix], u.values[lcenter, 3][ix]/phun(\"in\"), \n",
    "    xlab=  \"Z  coordinate [in]\", ylab= \"Vertical displacement [in]\")\n"
   ]
  },
  {
   "cell_type": "markdown",
   "metadata": {},
   "source": [
    "A reasonable single number to report for the deflection at the center is the average of the displacements at the nodes at the center of the plate:"
   ]
  },
  {
   "cell_type": "code",
   "execution_count": 37,
   "metadata": {},
   "outputs": [
    {
     "name": "stdout",
     "output_type": "stream",
     "text": [
      "Center node displacements -0.13634800328800462 [in]; NAFEMS-R0031-3 reference: –0.123 [in]\n"
     ]
    }
   ],
   "source": [
    "cdis = mean(u.values[lcenter, 3])/phun(\"in\");\n",
    "println(\"Center node displacements $(cdis) [in]; NAFEMS-R0031-3 reference: –0.123 [in]\")"
   ]
  },
  {
   "cell_type": "markdown",
   "metadata": {},
   "source": [
    "The reference displacement at the center of -0.123 [in] reported for the benchmark is due to an analytical formulation that neglects transverse  (pinching) deformation. Due to the soft core, significant pinching is observed. The solution to the benchmark  obtained in Abaqus  with incompatible hexahedral elements (with the same number of elements as in the stacked continuum shell solution) is -0.131 [in], so close to our own solution."
   ]
  },
  {
   "cell_type": "markdown",
   "metadata": {},
   "source": [
    "The deformed shape can be investigated  visually in `paraview` (uncomment the line at the bottom if you have `paraview` in your  PATH):"
   ]
  },
  {
   "cell_type": "code",
   "execution_count": 38,
   "metadata": {
    "collapsed": true
   },
   "outputs": [],
   "source": [
    "File =  \"NAFEMS-R0031-3-plate.vtk\"\n",
    "vtkexportmesh(File, fes.conn, geom.values, FinEtools.MeshExportModule.H20;\n",
    "    scalars = [(\"Layer\", fes.label)], vectors = [(\"displacement\", u.values)])\n",
    "#@async run(`\"paraview.exe\" $File`);"
   ]
  }
 ],
 "metadata": {
  "kernelspec": {
   "display_name": "Julia 0.6.0",
   "language": "julia",
   "name": "julia-0.6"
  },
  "language_info": {
   "file_extension": ".jl",
   "mimetype": "application/julia",
   "name": "julia",
   "version": "0.6.0"
  }
 },
 "nbformat": 4,
 "nbformat_minor": 2
}
