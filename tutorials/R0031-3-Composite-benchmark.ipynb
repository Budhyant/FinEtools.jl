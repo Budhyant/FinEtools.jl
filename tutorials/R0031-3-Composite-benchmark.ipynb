{
 "cells": [
  {
   "cell_type": "markdown",
   "metadata": {},
   "source": [
    "# R0031/3 Composite plate test\n"
   ]
  },
  {
   "cell_type": "markdown",
   "metadata": {},
   "source": [
    "This is a test recommended by the National Agency for Finite Element Methods\n",
    "and Standards (U.K.): Test R0031/3 from NAFEMS publication R0031, “Composites\n",
    "Benchmarks,” February 1995. It is  a composite  (sandwich) plate of square shape, simply supported along all four edges.\n",
    "Uniform transfers loading is applied to the top skin. The modeled part is one quarter of the full plate here.\n",
    "The serendipity  quadratic hexahedra  are used, with full integration."
   ]
  },
  {
   "cell_type": "markdown",
   "metadata": {},
   "source": [
    "The solution  can be compared with the benchmark results  in the Abaqus manual \"Abaqus Benchmarks Guide\" (http://130.149.89.49:2080/v6.7/books/bmk/default.htm?startat=ch04s09anf83.html)."
   ]
  },
  {
   "cell_type": "code",
   "execution_count": 202,
   "metadata": {
    "collapsed": true
   },
   "outputs": [],
   "source": [
    "using FinEtools\n",
    "using FinEtools.AlgoDeforLinearModule"
   ]
  },
  {
   "cell_type": "markdown",
   "metadata": {},
   "source": [
    "The material parameters are specified for an orthotropic material model.  The units are attached using the `phun` function which can take the specification of the units and spits out the numerical multiplier. The skin  material:"
   ]
  },
  {
   "cell_type": "code",
   "execution_count": 203,
   "metadata": {},
   "outputs": [],
   "source": [
    "# Skin (face) material parameters\n",
    "E1s = 1.0e7*phun(\"psi\")\n",
    "E2s = 0.4e7*phun(\"psi\")\n",
    "E3s = 0.4e7*phun(\"psi\")\n",
    "nu12s = 0.3\n",
    "nu13s = 0.3\n",
    "nu23s = 0.3\n",
    "G12s = 0.1875e7*phun(\"psi\")\n",
    "G13s = 0.1875e7*phun(\"psi\")\n",
    "G23s = 0.1875e7*phun(\"psi\");"
   ]
  },
  {
   "cell_type": "markdown",
   "metadata": {},
   "source": [
    "The core material:"
   ]
  },
  {
   "cell_type": "code",
   "execution_count": 204,
   "metadata": {},
   "outputs": [],
   "source": [
    "# Core material parameters\n",
    "E1c = 10.*phun(\"psi\")\n",
    "E2c = 10.*phun(\"psi\")\n",
    "E3c = 10e4.*phun(\"psi\")\n",
    "nu12c = 0.\n",
    "nu13c = 0.\n",
    "nu23c = 0.\n",
    "G12c = 10.*phun(\"psi\")\n",
    "G13c = 3.0e4*phun(\"psi\")\n",
    "G23c = 1.2e4*phun(\"psi\");"
   ]
  },
  {
   "cell_type": "markdown",
   "metadata": {},
   "source": [
    "The magnitude  of the distributed uniform transfers loading is"
   ]
  },
  {
   "cell_type": "code",
   "execution_count": 205,
   "metadata": {},
   "outputs": [],
   "source": [
    "tmag = 100*phun(\"psi\");"
   ]
  },
  {
   "cell_type": "markdown",
   "metadata": {},
   "source": [
    "Now we generate the mesh.   The sandwich plate volume is divided  into a regular Cartesian grid in the $X$ and $Y$ direction in the plane of the plate, and  in the thickness direction  it is divided  into three layers, with each layer again subdivided into multiple  elements."
   ]
  },
  {
   "cell_type": "code",
   "execution_count": 206,
   "metadata": {},
   "outputs": [],
   "source": [
    "L = 10.0*phun(\"in\") # side of the square plate\n",
    "nL = 8 # number of elements along the side of the plate\n",
    "xs = collect(linspace(0.0, L/2, nL+1))\n",
    "ys = collect(linspace(0.0, L/2, nL+1));;"
   ]
  },
  {
   "cell_type": "markdown",
   "metadata": {},
   "source": [
    "The thicknesses are specified from the bottom of the plate: skin, core, and then again skin."
   ]
  },
  {
   "cell_type": "code",
   "execution_count": 207,
   "metadata": {},
   "outputs": [],
   "source": [
    "ts = [0.028; 0.75; 0.028]*phun(\"in\")\n",
    "nts = [2; 3;  2; ]; # number of elements through the thickness"
   ]
  },
  {
   "cell_type": "markdown",
   "metadata": {},
   "source": [
    "The `H8compositeplatex` meshing function generates the mesh and marks the elements  with a label identifying  the layer to which they belong.  We will use the label to create separate regions, with their own separate materials."
   ]
  },
  {
   "cell_type": "code",
   "execution_count": 208,
   "metadata": {},
   "outputs": [],
   "source": [
    "fens,fes = H8compositeplatex(xs, ys, ts, nts)\n",
    "fens,fes = H8toH20(fens,fes);"
   ]
  },
  {
   "cell_type": "markdown",
   "metadata": {},
   "source": [
    "The model reduction  here simply says this is a fully three-dimensional model.  The two materials are created."
   ]
  },
  {
   "cell_type": "code",
   "execution_count": 209,
   "metadata": {},
   "outputs": [],
   "source": [
    "MR = DeforModelRed3D\n",
    "skinmaterial = MatDeforElastOrtho(MR,\n",
    "  0.0, E1s, E2s, E3s,\n",
    "  nu12s, nu13s, nu23s,\n",
    "  G12s, G13s, G23s,\n",
    "  0.0, 0.0, 0.0)\n",
    "corematerial = MatDeforElastOrtho(MR,\n",
    "  0.0, E1c, E2c, E3c,\n",
    "  nu12c, nu13c, nu23c,\n",
    "  G12c, G13c, G23c,\n",
    "  0.0, 0.0, 0.0);"
   ]
  },
  {
   "cell_type": "markdown",
   "metadata": {},
   "source": [
    "Now we are ready to create three material regions:  one for the bottom skin, one for the core, and one for the top skin.\n",
    "The selection of elements assigned to each of the three regions is based on the label. Full Gauss quadrature  is used. "
   ]
  },
  {
   "cell_type": "code",
   "execution_count": 210,
   "metadata": {},
   "outputs": [],
   "source": [
    "rl1 = selectelem(fens, fes, label=1)\n",
    "skinbot = FDataDict(\"femm\"=>FEMMDeforLinear(MR,\n",
    "    GeoD(subset(fes, rl1), GaussRule(3, 3)), skinmaterial))\n",
    "\n",
    "rl3 = selectelem(fens, fes, label=3)\n",
    "skintop = FDataDict(\"femm\"=>FEMMDeforLinear(MR,\n",
    "    GeoD(subset(fes, rl3), GaussRule(3, 3)), skinmaterial))\n",
    "\n",
    "rl2 = selectelem(fens, fes, label=2)\n",
    "core = FDataDict(\"femm\"=>FEMMDeforLinear(MR,\n",
    "    GeoD(subset(fes, rl2), GaussRule(3, 3)), corematerial));"
   ]
  },
  {
   "cell_type": "markdown",
   "metadata": {},
   "source": [
    "Note that since we did not specify the material coordinate system,  the default is assumed  (which is identical to the global Cartesian coordinate system)."
   ]
  },
  {
   "cell_type": "code",
   "execution_count": 211,
   "metadata": {},
   "outputs": [
    {
     "data": {
      "text/plain": [
       "FinEtools.GeoDModule.GeoD{FinEtools.FESetModule.FESetH20,FinEtools.GeoDModule.#otherdimensionunity}(FinEtools.FESetModule.FESetH20(20, [1 2 … 1928 1929; 82 83 … 1932 1933; … ; 71 72 … 2366 2314; 152 153 … 2367 2315], [1, 1, 1, 1, 1, 1, 1, 1, 1, 1  …  1, 1, 1, 1, 1, 1, 1, 1, 1, 1]), FinEtools.IntegRuleModule.GaussRule(3, 3, 27, [-0.774597 -0.774597 -0.774597; -0.774597 -0.774597 0.0; … ; 0.774597 0.774597 0.0; 0.774597 0.774597 0.774597], [0.171468; 0.274348; … ; 0.274348; 0.171468]), FinEtools.CSysModule.CSys{FinEtools.CSysModule.#updatebuffer!#1}(true, false, FinEtools.CSysModule.updatebuffer!, [1.0 0.0 0.0; 0.0 1.0 0.0; 0.0 0.0 1.0]), FinEtools.GeoDModule.otherdimensionunity, false)"
      ]
     },
     "execution_count": 211,
     "metadata": {},
     "output_type": "execute_result"
    }
   ],
   "source": [
    "skinbot[\"femm\"].geod"
   ]
  },
  {
   "cell_type": "markdown",
   "metadata": {},
   "source": [
    "Refer to the bit \"`...FinEtools.CSysModule.updatebuffer!, [1.0 0.0 0.0; 0.0 1.0 0.0; 0.0 0.0 1.0]), ...`\"."
   ]
  },
  {
   "cell_type": "markdown",
   "metadata": {},
   "source": [
    "Next we select the nodes to which  essential boundary conditions  will be applied.  A node is selected  if it is within the specified box  which for the purpose of the test  is inflated in all directions by `tolerance`. The  nodes on the planes of symmetry need to be selected, and also  the nodes  along the edges (faces) to be simply supported  need to be identified."
   ]
  },
  {
   "cell_type": "code",
   "execution_count": 212,
   "metadata": {},
   "outputs": [],
   "source": [
    "tolerance = 0.0001*phun(\"in\")\n",
    "lx0 = selectnode(fens, box=[0.0 0.0 -Inf Inf -Inf Inf], inflate=tolerance)\n",
    "lxL2 = selectnode(fens, box=[L/2 L/2 -Inf Inf -Inf Inf], inflate=tolerance)\n",
    "ly0 = selectnode(fens, box=[-Inf Inf 0.0 0.0 -Inf Inf], inflate=tolerance)\n",
    "lyL2 = selectnode(fens, box=[-Inf Inf L/2 L/2 -Inf Inf], inflate=tolerance);"
   ]
  },
  {
   "cell_type": "markdown",
   "metadata": {},
   "source": [
    "We have four sides  of the quarter of the plate, two on each plane of symmetry, and two  along the circumference. Hence we create  four essential boundary condition definitions."
   ]
  },
  {
   "cell_type": "code",
   "execution_count": 213,
   "metadata": {},
   "outputs": [],
   "source": [
    "ex0 = FDataDict( \"displacement\"=>  0.0, \"component\"=> 3, \"node_list\"=>lx0 )\n",
    "exL2 = FDataDict( \"displacement\"=>  0.0, \"component\"=> 1, \"node_list\"=>lxL2 )\n",
    "ey0 = FDataDict( \"displacement\"=>  0.0, \"component\"=> 3, \"node_list\"=>ly0 )\n",
    "eyL2 = FDataDict( \"displacement\"=>  0.0, \"component\"=> 2, \"node_list\"=>lyL2 );"
   ]
  },
  {
   "cell_type": "markdown",
   "metadata": {},
   "source": [
    "The traction on the top surface of the top skin is applied to the subset  of the surface mesh of the entire domain.\n",
    "First we find the  boundary mesh, and then from the boundary mesh we select the faces that  \"face\" upward (along the positive $Z$ axis)."
   ]
  },
  {
   "cell_type": "code",
   "execution_count": 214,
   "metadata": {},
   "outputs": [],
   "source": [
    "bfes = meshboundary(fes)\n",
    "ttopl = selectelem(fens, bfes; facing=true, direction = [0.0 0.0 1.0])\n",
    "Trac = FDataDict(\"traction_vector\"=>[0.0; 0.0; -tmag],\n",
    "    \"femm\"=>FEMMBase(GeoD(subset(bfes, ttopl), GaussRule(2, 3))));"
   ]
  },
  {
   "cell_type": "markdown",
   "metadata": {},
   "source": [
    "The model data  is composed of the  finite element nodes, an array  of the regions, an array of the essential boundary condition definitions, and  an array of  the traction (natural) boundary condition definitions."
   ]
  },
  {
   "cell_type": "code",
   "execution_count": 215,
   "metadata": {},
   "outputs": [],
   "source": [
    "modeldata = FDataDict(\"fens\"=>fens,\n",
    " \"regions\"=>[skinbot, core, skintop], \"essential_bcs\"=>[ex0, exL2, ey0, eyL2],\n",
    " \"traction_bcs\"=> [Trac]\n",
    " );"
   ]
  },
  {
   "cell_type": "markdown",
   "metadata": {},
   "source": [
    "With the model data assembled,  we can now call the algorithm."
   ]
  },
  {
   "cell_type": "code",
   "execution_count": 216,
   "metadata": {},
   "outputs": [],
   "source": [
    "modeldata = AlgoDeforLinearModule.linearstatics(modeldata);"
   ]
  },
  {
   "cell_type": "markdown",
   "metadata": {},
   "source": [
    "The  computed solution can now be postprocessed. The displacement is reported at the center of the plate, along the line in the direction of the loading. We select all the nodes along this line."
   ]
  },
  {
   "cell_type": "code",
   "execution_count": 217,
   "metadata": {
    "scrolled": true
   },
   "outputs": [],
   "source": [
    "u = modeldata[\"u\"]\n",
    "geom = modeldata[\"geom\"]\n",
    "lcenter = selectnode(fens, box=[L/2 L/2  L/2 L/2 -Inf Inf], inflate=tolerance);"
   ]
  },
  {
   "cell_type": "markdown",
   "metadata": {},
   "source": [
    "The variation of the displacement along this line  can be plotted  as (the bottom surface of the shell is at $Z=0$):"
   ]
  },
  {
   "cell_type": "code",
   "execution_count": 218,
   "metadata": {},
   "outputs": [
    {
     "data": {
      "text/html": [
       "<script src=\"C:\\Users\\PetrKrysl\\.julia\\v0.6\\Plots\\src\\backends\\..\\..\\deps\\plotly-latest.min.js\"></script>    <div id=\"1fd79d73-7839-4629-b19e-a8ea57b23729\" style=\"width:600px;height:400px;\"></div>\n",
       "    <script>\n",
       "    PLOT = document.getElementById('1fd79d73-7839-4629-b19e-a8ea57b23729');\n",
       "    Plotly.plot(PLOT, [{\"showlegend\":true,\"mode\":\"lines\",\"xaxis\":\"x\",\"colorbar\":{\"title\":\"\"},\"line\":{\"color\":\"rgba(0, 154, 250, 1.000)\",\"shape\":\"linear\",\"dash\":\"solid\",\"width\":1},\"y\":[-0.13613996386430569,-0.13615690380168805,-0.13617344069843793,-0.13618957713237118,-0.13620531177218576,-0.1362176509319579,-0.13625006341067158,-0.13630252517792227,-0.13637506083704126,-0.13646764521026827,-0.1365803041790444,-0.13656474423708576,-0.13654878256472713,-0.1365324203479907,-0.1365156551543718],\"type\":\"scatter\",\"name\":\"y1\",\"yaxis\":\"y\",\"x\":[0.0,0.0001778,0.0003556,0.0005334000000000001,0.0007112,0.0038862000000000002,0.0070612,0.0102362,0.0134112,0.0165862,0.0197612,0.019939,0.0201168,0.0202946,0.020472399999999998]}], {\"showlegend\":true,\"xaxis\":{\"tickvals\":[0.0,0.005000000000000001,0.010000000000000002,0.015000000000000003,0.020000000000000004],\"ticks\":\"inside\",\"tickmode\":\"array\",\"domain\":[0.1357283464566929,0.9934383202099737],\"linecolor\":\"rgba(0, 0, 0, 1.000)\",\"showgrid\":true,\"title\":\"Z  coordinate [in]\",\"tickangle\":0,\"titlefont\":{\"color\":\"rgba(0, 0, 0, 1.000)\",\"family\":\"sans-serif\",\"size\":15},\"tickcolor\":\"rgba(0, 0, 0, 1.000)\",\"ticktext\":[\"0.000\",\"0.005\",\"0.010\",\"0.015\",\"0.020\"],\"zeroline\":false,\"type\":\"-\",\"tickfont\":{\"color\":\"rgba(0, 0, 0, 1.000)\",\"family\":\"sans-serif\",\"size\":11},\"anchor\":\"y\"},\"paper_bgcolor\":\"rgba(255, 255, 255, 1.000)\",\"annotations\":[],\"height\":400,\"margin\":{\"l\":0,\"b\":20,\"r\":0,\"t\":20},\"plot_bgcolor\":\"rgba(255, 255, 255, 1.000)\",\"yaxis\":{\"tickvals\":[-0.13650000000000007,-0.13640000000000005,-0.13630000000000006,-0.13620000000000007],\"ticks\":\"inside\",\"tickmode\":\"array\",\"domain\":[0.07581474190726165,0.9901574803149606],\"linecolor\":\"rgba(0, 0, 0, 1.000)\",\"showgrid\":true,\"title\":\"Vertical displacement [in]\",\"tickangle\":0,\"titlefont\":{\"color\":\"rgba(0, 0, 0, 1.000)\",\"family\":\"sans-serif\",\"size\":15},\"tickcolor\":\"rgba(0, 0, 0, 1.000)\",\"ticktext\":[\"-0.1365\",\"-0.1364\",\"-0.1363\",\"-0.1362\"],\"zeroline\":false,\"type\":\"-\",\"tickfont\":{\"color\":\"rgba(0, 0, 0, 1.000)\",\"family\":\"sans-serif\",\"size\":11},\"anchor\":\"x\"},\"legend\":{\"bordercolor\":\"rgba(0, 0, 0, 1.000)\",\"bgcolor\":\"rgba(255, 255, 255, 1.000)\",\"font\":{\"color\":\"rgba(0, 0, 0, 1.000)\",\"family\":\"sans-serif\",\"size\":11},\"y\":1.0,\"x\":1.0},\"width\":600});\n",
       "    </script>\n"
      ]
     },
     "execution_count": 218,
     "metadata": {},
     "output_type": "execute_result"
    }
   ],
   "source": [
    "using  Plots\n",
    "plotly()\n",
    "ix = sortperm(geom.values[lcenter, 3])\n",
    "plot(geom.values[lcenter, 3][ix], u.values[lcenter, 3][ix]/phun(\"in\"), \n",
    "    xlab=  \"Z  coordinate [in]\", ylab= \"Vertical displacement [in]\")\n"
   ]
  },
  {
   "cell_type": "markdown",
   "metadata": {},
   "source": [
    "A reasonable single number to report for the deflection at the center is the average of the displacements at the nodes at the center of the plate:"
   ]
  },
  {
   "cell_type": "code",
   "execution_count": 219,
   "metadata": {},
   "outputs": [
    {
     "name": "stdout",
     "output_type": "stream",
     "text": [
      "Center node displacements -0.13634800328800462 [in]; NAFEMS-R0031-3 reference: –0.123 [in]\n"
     ]
    }
   ],
   "source": [
    "cdis = mean(u.values[lcenter, 3])/phun(\"in\");\n",
    "println(\"Center node displacements $(cdis) [in]; NAFEMS-R0031-3 reference: –0.123 [in]\")"
   ]
  },
  {
   "cell_type": "markdown",
   "metadata": {},
   "source": [
    "The reference displacement at the center of -0.123 [in] reported for the benchmark is due to an analytical formulation that neglects transverse  (pinching) deformation. Due to the soft core, significant pinching is observed. The solution to the benchmark  obtained in Abaqus  with incompatible hexahedral elements (with the same number of elements as in the stacked continuum shell solution) is -0.131 [in], so close to our own solution."
   ]
  },
  {
   "cell_type": "markdown",
   "metadata": {},
   "source": [
    "The deformed shape can be investigated  visually in `paraview` (uncomment the line at the bottom if you have `paraview` in your  PATH):"
   ]
  },
  {
   "cell_type": "code",
   "execution_count": 220,
   "metadata": {},
   "outputs": [],
   "source": [
    "File =  \"NAFEMS-R0031-3-plate.vtk\"\n",
    "vtkexportmesh(File, fes.conn, geom.values, FinEtools.MeshExportModule.H20;\n",
    "    scalars = [(\"Layer\", fes.label)], vectors = [(\"displacement\", u.values)])\n",
    "#@async run(`\"paraview.exe\" $File`);"
   ]
  }
 ],
 "metadata": {
  "kernelspec": {
   "display_name": "Julia 0.6.0",
   "language": "julia",
   "name": "julia-0.6"
  },
  "language_info": {
   "file_extension": ".jl",
   "mimetype": "application/julia",
   "name": "julia",
   "version": "0.6.0"
  }
 },
 "nbformat": 4,
 "nbformat_minor": 2
}
