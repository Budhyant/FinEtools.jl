{
 "cells": [
  {
   "cell_type": "markdown",
   "metadata": {},
   "source": [
    "# Export  to Abaqus"
   ]
  },
  {
   "cell_type": "markdown",
   "metadata": {},
   "source": [
    "In this example  we show how to export and model  to the finite element software Abaqus.\n",
    "The model is solved in the FinEtools package, in the example `twisted_beam_algo.jl`.  Here we export the model for execution in Abaqus."
   ]
  },
  {
   "cell_type": "markdown",
   "metadata": {},
   "source": [
    "The task begins with defining the input parameters, creating the mesh, identifying the nodes  to which essential boundary conditions are to be applied,  and extracting from the boundary the surface finite elements to which the traction loading at the end of the beam is to be applied. "
   ]
  },
  {
   "cell_type": "code",
   "execution_count": 136,
   "metadata": {},
   "outputs": [],
   "source": [
    "using FinEtools\n",
    "using FinEtools.AlgoDeforLinearModule\n",
    "using FinEtools.AbaqusExportModule\n",
    "\n",
    "E = 0.29e8;\n",
    "nu = 0.22;\n",
    "W = 1.1;\n",
    "L = 12.;\n",
    "t =  0.32;\n",
    "nl = 2; nt = 1; nw = 1; ref = 2;\n",
    "p =   1/W/t;\n",
    "#  Loading in the Z direction\n",
    "loadv = [0;0;p]; dir = 3; uex = 0.005424534868469; # Harder: 5.424e-3;\n",
    "#   Loading in the Y direction\n",
    "#loadv = [0;p;0]; dir = 2; uex = 0.001753248285256; # Harder: 1.754e-3;\n",
    "tolerance  = t/1000;\n",
    "\n",
    "fens,fes  = H8block(L,W,t, nl*ref,nw*ref,nt*ref)\n",
    "\n",
    "# Reshape into a twisted beam shape\n",
    "for i = 1:count(fens)\n",
    "  a = fens.xyz[i,1]/L*(pi/2); y = fens.xyz[i,2]-(W/2); z = fens.xyz[i,3]-(t/2);\n",
    "  fens.xyz[i,:] = [fens.xyz[i,1],y*cos(a)-z*sin(a),y*sin(a)+z*cos(a)];\n",
    "end\n",
    "\n",
    "# Clamped face of the beam: select all the nodes in this cross-section.\n",
    "l1  = selectnode(fens; box = [0 0 -100*W 100*W -100*W 100*W], inflate  =  tolerance)\n",
    "\n",
    "# Traction on the opposite face\n",
    "boundaryfes  =   meshboundary(fes);\n",
    "Toplist   = selectelem(fens,boundaryfes, box =  [L L -100*W 100*W -100*W 100*W], inflate =   tolerance);"
   ]
  },
  {
   "cell_type": "markdown",
   "metadata": {},
   "source": [
    "We create the Abaqus exporter  and start writing  the `.inp` file."
   ]
  },
  {
   "cell_type": "code",
   "execution_count": 137,
   "metadata": {
    "collapsed": true
   },
   "outputs": [],
   "source": [
    "AE = AbaqusExporter(\"twisted_beam\");\n",
    "HEADING(AE, \"Twisted beam example\");"
   ]
  },
  {
   "cell_type": "markdown",
   "metadata": {},
   "source": [
    "The  part definition is trivial: all will be defined rather for the instance of the part."
   ]
  },
  {
   "cell_type": "code",
   "execution_count": 138,
   "metadata": {
    "collapsed": true
   },
   "outputs": [],
   "source": [
    "PART(AE, \"part1\");\n",
    "END_PART(AE);"
   ]
  },
  {
   "cell_type": "markdown",
   "metadata": {},
   "source": [
    "The assembly will consist  of a single instance (of the empty part defined above).  The node set will be defined for the instance itself."
   ]
  },
  {
   "cell_type": "code",
   "execution_count": 139,
   "metadata": {
    "collapsed": true
   },
   "outputs": [],
   "source": [
    "ASSEMBLY(AE, \"ASSEM1\");\n",
    "INSTANCE(AE, \"INSTNC1\", \"PART1\");\n",
    "NODE(AE, fens.xyz);"
   ]
  },
  {
   "cell_type": "markdown",
   "metadata": {},
   "source": [
    "We export the finite elements themselves.  Note that the elements  need to have  distinct numbers.  We start numbering the hexahedra at 1. The definition of the element creates simultaneously an element set  which is used below in the section assignment (and the definition of the load)."
   ]
  },
  {
   "cell_type": "code",
   "execution_count": 140,
   "metadata": {
    "collapsed": true
   },
   "outputs": [],
   "source": [
    "ELEMENT(AE, \"c3d8rh\", \"AllElements\", 1, fes.conn)"
   ]
  },
  {
   "cell_type": "markdown",
   "metadata": {},
   "source": [
    "The traction is applied to surface elements.  Because the elements in the Abaqus model need to have unique numbers, we need to start from an integer  which is  the number of the solid elements plus one."
   ]
  },
  {
   "cell_type": "code",
   "execution_count": 141,
   "metadata": {
    "collapsed": true
   },
   "outputs": [],
   "source": [
    "ELEMENT(AE, \"SFM3D4\", \"TractionElements\", 1+count(fes), subset(boundaryfes,Toplist).conn)"
   ]
  },
  {
   "cell_type": "markdown",
   "metadata": {},
   "source": [
    "The nodes in the clamped cross-section are going to be grouped in the node set `l1`."
   ]
  },
  {
   "cell_type": "code",
   "execution_count": 142,
   "metadata": {
    "collapsed": true
   },
   "outputs": [],
   "source": [
    "NSET_NSET(AE, \"l1\", l1)"
   ]
  },
  {
   "cell_type": "markdown",
   "metadata": {},
   "source": [
    "We define a coordinate system  (orientation of the material  coordinate system), in this example it is the global Cartesian coordinate system. The sections are defined for the solid elements of the interior and the surface elements to which the traction is applied, and the assignment to the  elements is by element set (`AllElements` and `TractionElements`). Note that for the solid section we also define reference  to hourglass control named `Hourglassctl`."
   ]
  },
  {
   "cell_type": "code",
   "execution_count": 143,
   "metadata": {
    "collapsed": true
   },
   "outputs": [],
   "source": [
    "ORIENTATION(AE, \"GlobalOrientation\", vec([1. 0 0]), vec([0 1. 0]));\n",
    "SOLID_SECTION(AE, \"elasticity\", \"GlobalOrientation\", \"AllElements\", \"Hourglassctl\");\n",
    "SURFACE_SECTION(AE, \"TractionElements\")"
   ]
  },
  {
   "cell_type": "markdown",
   "metadata": {},
   "source": [
    "This concludes the definition  of the instance  and of the assembly."
   ]
  },
  {
   "cell_type": "code",
   "execution_count": 144,
   "metadata": {
    "collapsed": true
   },
   "outputs": [],
   "source": [
    "END_INSTANCE(AE);\n",
    "END_ASSEMBLY(AE);"
   ]
  },
  {
   "cell_type": "markdown",
   "metadata": {},
   "source": [
    "This is the definition of the isotropic elastic material."
   ]
  },
  {
   "cell_type": "code",
   "execution_count": 145,
   "metadata": {
    "collapsed": true
   },
   "outputs": [],
   "source": [
    "MATERIAL(AE, \"elasticity\")\n",
    "ELASTIC(AE, E, nu)"
   ]
  },
  {
   "cell_type": "markdown",
   "metadata": {},
   "source": [
    "The element properties for the interior hexahedra are controlled by the section-control.  In this case we are selecting enhanced hourglass stabilization (much preferable to the default  stiffness stabilization)."
   ]
  },
  {
   "cell_type": "code",
   "execution_count": 146,
   "metadata": {
    "collapsed": true
   },
   "outputs": [],
   "source": [
    "SECTION_CONTROLS(AE, \"Hourglassctl\", \"HOURGLASS=ENHANCED\")"
   ]
  },
  {
   "cell_type": "markdown",
   "metadata": {},
   "source": [
    "The static perturbation  analysis step is defined  next. "
   ]
  },
  {
   "cell_type": "code",
   "execution_count": 147,
   "metadata": {
    "collapsed": true
   },
   "outputs": [],
   "source": [
    "STEP_PERTURBATION_STATIC(AE)"
   ]
  },
  {
   "cell_type": "markdown",
   "metadata": {},
   "source": [
    "The boundary conditions are applied directly to the node set `l1`.   Since the notes that is defined for the instance, we need to refer to it by the qualified name `ASSEM1.INSTNC1.l1`."
   ]
  },
  {
   "cell_type": "code",
   "execution_count": 148,
   "metadata": {
    "collapsed": true
   },
   "outputs": [],
   "source": [
    "BOUNDARY(AE, \"ASSEM1.INSTNC1.l1\", 1)\n",
    "BOUNDARY(AE, \"ASSEM1.INSTNC1.l1\", 2)\n",
    "BOUNDARY(AE, \"ASSEM1.INSTNC1.l1\", 3)"
   ]
  },
  {
   "cell_type": "markdown",
   "metadata": {},
   "source": [
    "The traction is applied to the surface  quadrilateral elements exported above."
   ]
  },
  {
   "cell_type": "code",
   "execution_count": 149,
   "metadata": {
    "collapsed": true
   },
   "outputs": [],
   "source": [
    "DLOAD(AE, \"ASSEM1.INSTNC1.TractionElements\", vec(loadv))"
   ]
  },
  {
   "cell_type": "markdown",
   "metadata": {},
   "source": [
    "Now we have defined  the analysis step and the definition of the model can be concluded. "
   ]
  },
  {
   "cell_type": "code",
   "execution_count": 150,
   "metadata": {
    "collapsed": true
   },
   "outputs": [],
   "source": [
    "END_STEP(AE)\n",
    "close(AE)"
   ]
  },
  {
   "cell_type": "markdown",
   "metadata": {},
   "source": [
    "As quick check, here is the contents of the  exported model file:"
   ]
  },
  {
   "cell_type": "code",
   "execution_count": 151,
   "metadata": {},
   "outputs": [
    {
     "data": {
      "text/plain": [
       "106-element Array{String,1}:\n",
       " \"*HEADING\"                                                           \n",
       " \"Twisted beam example\"                                               \n",
       " \"*PART, NAME=part1\"                                                  \n",
       " \"*END PART\"                                                          \n",
       " \"*ASSEMBLY, NAME=ASSEM1\"                                             \n",
       " \"*INSTANCE, NAME=INSTNC1, PART=PART1\"                                \n",
       " \"*NODE\"                                                              \n",
       " \"1,0.0,-0.55,-0.16\"                                                  \n",
       " \"2,3.0,-0.44690439370279333,-0.3582966130026053\"                     \n",
       " \"3,6.0,-0.2757716446627536,-0.5020458146424488\"                      \n",
       " \"4,9.0,-0.06265516259899354,-0.5693630920596221\"                     \n",
       " \"5,12.0,0.15999999999999998,-0.55\"                                   \n",
       " \"6,0.0,0.0,-0.16\"                                                    \n",
       " ⋮                                                                    \n",
       " \"*SECTION CONTROLS, NAME=Hourglassctl,HOURGLASS=ENHANCED\"            \n",
       " \"*STEP,PERTURBATION\"                                                 \n",
       " \"*STATIC\"                                                            \n",
       " \"*BOUNDARY\"                                                          \n",
       " \"ASSEM1.INSTNC1.l1,1\"                                                \n",
       " \"*BOUNDARY\"                                                          \n",
       " \"ASSEM1.INSTNC1.l1,2\"                                                \n",
       " \"*BOUNDARY\"                                                          \n",
       " \"ASSEM1.INSTNC1.l1,3\"                                                \n",
       " \"*DLOAD, follower=NO\"                                                \n",
       " \"ASSEM1.INSTNC1.TractionElements,TRVEC,2.840909090909091,0.0,0.0,1.0\"\n",
       " \"*END STEP\"                                                          "
      ]
     },
     "execution_count": 151,
     "metadata": {},
     "output_type": "execute_result"
    }
   ],
   "source": [
    "s = readlines(\"twisted_beam.inp\")"
   ]
  },
  {
   "cell_type": "markdown",
   "metadata": {},
   "source": [
    "What remains is to load the model into Abaqus and execute it as a job.  Alternatively Abaqus can be called on the input file to carry out the analysis at the command line as \n",
    "```\n",
    "abaqus job=twisted_beam.inp\n",
    "```.  \n",
    "The output database `twisted_beam.odb` can then be loaded for postprocessing, for instance from the command line as \n",
    "```\n",
    "abaqus viewer database=twisted_beam.odb`."
   ]
  }
 ],
 "metadata": {
  "kernelspec": {
   "display_name": "Julia 0.6.0",
   "language": "julia",
   "name": "julia-0.6"
  },
  "language_info": {
   "file_extension": ".jl",
   "mimetype": "application/julia",
   "name": "julia",
   "version": "0.6.0"
  }
 },
 "nbformat": 4,
 "nbformat_minor": 2
}
