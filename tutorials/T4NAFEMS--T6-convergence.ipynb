{
 "cells": [
  {
   "cell_type": "markdown",
   "metadata": {},
   "source": [
    "# Two-dimensional heat transfer with convection: convergence study\n",
    "\n",
    "\n",
    "## Description\n",
    "\n",
    "Consider a plate of uniform thickness, measuring 0.6 m by 1.0 m. On one\n",
    "short edge the temperature is fixed at 100 °C, and on one long edge the\n",
    "plate is perfectly insulated so that the heat flux is zero through that\n",
    "edge. The other two edges are losing heat via convection to an ambient\n",
    "temperature of 0 °C. The thermal conductivity of the plate is 52.0 W/(m\n",
    ".°K), and the convective heat transfer coefficient is 750 W/(m^2.°K).\n",
    "There is no internal generation of heat. Calculate the temperature 0.2 m\n",
    "along the un-insulated long side, measured from the intersection with the\n",
    "fixed temperature side (we call it point A below). The reference result is 18.25 °C.\n",
    "\n",
    "The reference temperature at the point A  is 18.25 °C according to the\n",
    "NAFEMS publication (which cites the book Carslaw, H.S. and J.C. Jaeger,\n",
    "Conduction of Heat in Solids. 1959: Oxford University Press).\n",
    "\n",
    "The present  tutorial will investigate the reference temperature  and it\n",
    "will attempt to  estimate the  limit value more precisely using a\n",
    "sequence of meshes and Richardson's extrapolation."
   ]
  },
  {
   "cell_type": "code",
   "execution_count": 44,
   "metadata": {
    "collapsed": true
   },
   "outputs": [],
   "source": [
    "using FinEtools"
   ]
  },
  {
   "cell_type": "code",
   "execution_count": 45,
   "metadata": {
    "scrolled": true
   },
   "outputs": [],
   "source": [
    "kappa = [52. 0; 0 52.]*phun(\"W/(M*K)\"); # conductivity matrix\n",
    "h = 750*phun(\"W/(M^2*K)\");# surface heat transfer coefficient\n",
    "Width = 0.6*phun(\"M\");# Geometrical dimensions\n",
    "Height = 1.0*phun(\"M\");\n",
    "HeightA = 0.2*phun(\"M\");\n",
    "Thickness = 0.1*phun(\"M\");\n",
    "tolerance  = Width/1000;\n",
    "\n",
    "material = MatHeatDiff(kappa);"
   ]
  },
  {
   "cell_type": "markdown",
   "metadata": {},
   "source": [
    "The extrapolation  requires solutions  on a sequence of meshes. The model will be constructed repeatedly  inside the loop below."
   ]
  },
  {
   "cell_type": "code",
   "execution_count": 46,
   "metadata": {},
   "outputs": [],
   "source": [
    "modeldata = nothing # I need this to exist outside of the loop: it will be used below\n",
    "resultsTempA = FFlt[]; params = FFlt[]; "
   ]
  },
  {
   "cell_type": "markdown",
   "metadata": {},
   "source": [
    "The model is constructed as follows: In order to  get a node at precisely the correct location  of point A, the domain is split into two rectangles which are meshed separately and then merged.  The meshes of the rectangles are then  repeatedly refined by quadri-section: each triangle is split into four triangles  of half the size.   The three node triangles are then converted  to  quadratic (six-node) triangles. The boundary of this mesh is then extracted and used  to construct the FEMM for the convection boundary condition. The model data is then passed to the steady-state solver. Finally, the temperature at point A is extracted and stored, and the  relative element size is also recorded."
   ]
  },
  {
   "cell_type": "code",
   "execution_count": 47,
   "metadata": {
    "collapsed": true
   },
   "outputs": [],
   "source": [
    "for nref = 3:5\n",
    "  # The mesh is created from two triangles to begin with\n",
    "  fens,fes = T3blockx([0.0, Width], [0.0, HeightA])\n",
    "  fens2,fes2 = T3blockx([0.0, Width], [HeightA, Height])\n",
    "  fens,newfes1,fes2 = mergemeshes(fens, fes, fens2, fes2, tolerance)\n",
    "  fes = cat(newfes1,fes2)\n",
    "  # Refine the mesh desired number of times\n",
    "  for ref = 1:nref\n",
    "      fens,fes = T3refine(fens,fes);\n",
    "  end\n",
    "  # Convert  the mesh of three-node triangles  to six-node triangles\n",
    "  fens, fes = T3toT6(fens,fes);\n",
    "  # Extract the boundary of the mesh of the interior  \n",
    "  bfes = meshboundary(fes)\n",
    "  # Define boundary conditions:\n",
    "  # The prescribed temperature is applied along edge 1 (the bottom\n",
    "  # edge in Figure 1).\n",
    "  l1 = selectnode(fens; box=[0. Width 0. 0.], inflate=tolerance)\n",
    "  essential1 = FDataDict(\"node_list\"=>l1, \"temperature\"=> 100.);\n",
    "  # The convection boundary condition is applied along the edges\n",
    "  # 2,3,4. The elements along the boundary are quadratic line\n",
    "  # elements L3. The order-four Gauss quadrature is sufficiently accurate.\n",
    "  l2 = selectelem(fens, bfes; box=[Width Width  0.0 Height], inflate =tolerance)\n",
    "  l3 = selectelem(fens, bfes; box=[0.0 Width Height Height], inflate =tolerance)\n",
    "  cfemm = FEMMHeatDiffSurf(GeoD(subset(bfes,vcat(l2,l3)), GaussRule(1, 4), Thickness), h)\n",
    "  convection1 = FDataDict(\"femm\"=>cfemm, \"ambient_temperature\"=>0.);\n",
    "  # FEMM  for the interior of the domain\n",
    "  femm = FEMMHeatDiff(GeoD(fes, TriRule(3), Thickness), material)\n",
    "  region1 = FDataDict(\"femm\"=>femm)\n",
    "  # Make the model data\n",
    "  modeldata = FDataDict(\"fens\"=> fens, \"regions\"=>[region1],\n",
    "                        \"essential_bcs\"=>[essential1], \"convection_bcs\"=>[convection1]);\n",
    "  # Call the solver\n",
    "  modeldata = FinEtools.AlgoHeatDiffModule.steadystate(modeldata)\n",
    "  # Find the node at the monitored location of the point A  [coordinates (Width,HeightA)].\n",
    "  l4 = selectnode(fens; box=[Width Width HeightA HeightA], inflate =tolerance)\n",
    "  # Collect the temperature and store it \n",
    "  Temp = modeldata[\"temp\"]\n",
    "  push!(resultsTempA, Temp.values[l4][1]); push!(params, 1.0/2^nref)\n",
    "end"
   ]
  },
  {
   "cell_type": "code",
   "execution_count": 48,
   "metadata": {},
   "outputs": [
    {
     "name": "stdout",
     "output_type": "stream",
     "text": [
      "[18.2965, 18.2619, 18.255]\n"
     ]
    }
   ],
   "source": [
    "# These are the computed results for the temperature at point A:\n",
    "println(\"$( resultsTempA  )\")"
   ]
  },
  {
   "cell_type": "markdown",
   "metadata": {},
   "source": [
    "Richardson extrapolation can now be performed on the series of  data points."
   ]
  },
  {
   "cell_type": "code",
   "execution_count": 49,
   "metadata": {},
   "outputs": [
    {
     "name": "stdout",
     "output_type": "stream",
     "text": [
      "Solution estimate = 18.253269221005517\n",
      "Convergence rate estimate  = 2.3301983647876545\n"
     ]
    }
   ],
   "source": [
    "solnestim, beta, c, residual = FinEtools.AlgoBaseModule.richextrapol(resultsTempA, params)\n",
    "println(\"Solution estimate = $(solnestim)\")\n",
    "println(\"Convergence rate estimate  = $(beta )\")"
   ]
  },
  {
   "cell_type": "markdown",
   "metadata": {},
   "source": [
    "Plot the estimated true error aand the approximate error  (as the differences of the successive solutions). The slope of the approximate error curve  is very close to the slope of the estimated true error, which is an indication that the extrapolation  had a chance to work."
   ]
  },
  {
   "cell_type": "code",
   "execution_count": 50,
   "metadata": {
    "scrolled": true
   },
   "outputs": [
    {
     "data": {
      "text/html": [
       "<script src=\"C:\\Users\\PetrKrysl\\.julia\\v0.6\\Plots\\src\\backends\\..\\..\\deps\\plotly-latest.min.js\"></script>    <div id=\"8a979e8c-4e6a-4e1a-a9d8-55735e30f627\" style=\"width:600px;height:400px;\"></div>\n",
       "    <script>\n",
       "    PLOT = document.getElementById('8a979e8c-4e6a-4e1a-a9d8-55735e30f627');\n",
       "    Plotly.plot(PLOT, [{\"xaxis\":\"x\",\"colorbar\":{\"title\":\"\"},\"yaxis\":\"y\",\"x\":[0.125,0.0625,0.03125],\"showlegend\":true,\"mode\":\"lines+markers\",\"name\":\"estimated true error\",\"marker\":{\"symbol\":\"octagon\",\"color\":\"rgba(0, 154, 250, 1.000)\",\"line\":{\"color\":\"rgba(0, 0, 0, 1.000)\",\"width\":1},\"size\":8},\"line\":{\"color\":\"rgba(0, 154, 250, 1.000)\",\"shape\":\"linear\",\"dash\":\"solid\",\"width\":1},\"y\":[0.04321394122624511,0.00859338507713403,0.0017088528603785846],\"type\":\"scatter\"},{\"xaxis\":\"x\",\"colorbar\":{\"title\":\"\"},\"yaxis\":\"y\",\"x\":[0.125,0.0625],\"showlegend\":true,\"mode\":\"lines+markers\",\"name\":\"approximate error\",\"marker\":{\"symbol\":\"cross\",\"color\":\"rgba(227, 111, 71, 1.000)\",\"line\":{\"color\":\"rgba(0, 0, 0, 1.000)\",\"width\":1},\"size\":8},\"line\":{\"color\":\"rgba(227, 111, 71, 1.000)\",\"shape\":\"linear\",\"dash\":\"solid\",\"width\":1},\"y\":[0.03462055614911108,0.006884532216755446],\"type\":\"scatter\"}], {\"showlegend\":true,\"xaxis\":{\"tickvals\":[0.01,0.03162277660168379,0.1,0.31622776601683794,1.0],\"ticks\":\"inside\",\"range\":[-2.0,0.0],\"domain\":[0.1357283464566929,0.9934383202099737],\"tickmode\":\"array\",\"linecolor\":\"rgba(0, 0, 0, 1.000)\",\"showgrid\":true,\"title\":\"Element size\",\"tickangle\":0,\"titlefont\":{\"color\":\"rgba(0, 0, 0, 1.000)\",\"family\":\"sans-serif\",\"size\":15},\"tickcolor\":\"rgba(0, 0, 0, 1.000)\",\"ticktext\":[\"10^-2.0\",\"10^-1.5\",\"10^-1.0\",\"10^-0.5\",\"10^0.0\"],\"zeroline\":false,\"type\":\"log\",\"tickfont\":{\"color\":\"rgba(0, 0, 0, 1.000)\",\"family\":\"sans-serif\",\"size\":11},\"anchor\":\"y\"},\"paper_bgcolor\":\"rgba(255, 255, 255, 1.000)\",\"annotations\":[],\"height\":400,\"margin\":{\"l\":0,\"b\":20,\"r\":0,\"t\":20},\"plot_bgcolor\":\"rgba(255, 255, 255, 1.000)\",\"yaxis\":{\"tickvals\":[0.001,0.0031622776601683794,0.01,0.03162277660168379,0.1],\"ticks\":\"inside\",\"range\":[-3.0,-1.0],\"domain\":[0.07581474190726165,0.9901574803149606],\"tickmode\":\"array\",\"linecolor\":\"rgba(0, 0, 0, 1.000)\",\"showgrid\":true,\"title\":\"Temperature  error\",\"tickangle\":0,\"titlefont\":{\"color\":\"rgba(0, 0, 0, 1.000)\",\"family\":\"sans-serif\",\"size\":15},\"tickcolor\":\"rgba(0, 0, 0, 1.000)\",\"ticktext\":[\"10^-3.0\",\"10^-2.5\",\"10^-2.0\",\"10^-1.5\",\"10^-1.0\"],\"zeroline\":false,\"type\":\"log\",\"tickfont\":{\"color\":\"rgba(0, 0, 0, 1.000)\",\"family\":\"sans-serif\",\"size\":11},\"anchor\":\"x\"},\"legend\":{\"bordercolor\":\"rgba(0, 0, 0, 1.000)\",\"bgcolor\":\"rgba(255, 255, 255, 1.000)\",\"font\":{\"color\":\"rgba(0, 0, 0, 1.000)\",\"family\":\"sans-serif\",\"size\":11},\"y\":1.0,\"x\":1.0},\"width\":600});\n",
       "    </script>\n"
      ]
     },
     "execution_count": 50,
     "metadata": {},
     "output_type": "execute_result"
    }
   ],
   "source": [
    "using Plots\n",
    "plotly()\n",
    "plot(params, abs.(resultsTempA-solnestim), marker=:o, xaxis=:log, yaxis=:log, \n",
    "    xlim=(0.01, 1.0), ylim=(1.0e-3, 0.1), label= \"estimated true error\")\n",
    "plot!(params[1:2], abs.(diff(resultsTempA)), marker=:cross, label=  \"approximate error\")\n",
    "plot!(xlabel=  \"Element size\", ylabel=  \"Temperature  error\")"
   ]
  },
  {
   "cell_type": "markdown",
   "metadata": {},
   "source": [
    "## Conclusions\n",
    "\n",
    "The  solution to the benchmark problem can be refined to 18.253 degree Celsius.  If we used even more refined meshes, this could be further firmed up. You can certainly try it: simply change `nref` to range over for instance `5:7`."
   ]
  }
 ],
 "metadata": {
  "kernelspec": {
   "display_name": "Julia 0.6.0",
   "language": "julia",
   "name": "julia-0.6"
  },
  "language_info": {
   "file_extension": ".jl",
   "mimetype": "application/julia",
   "name": "julia",
   "version": "0.6.0"
  }
 },
 "nbformat": 4,
 "nbformat_minor": 2
}
