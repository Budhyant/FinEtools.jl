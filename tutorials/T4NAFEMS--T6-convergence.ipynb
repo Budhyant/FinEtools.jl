{
 "cells": [
  {
   "cell_type": "markdown",
   "metadata": {},
   "source": [
    "# Two-dimensional heat transfer with convection: convergence study\n",
    "\n",
    "\n",
    "## Description\n",
    "\n",
    "Consider a plate of uniform thickness, measuring 0.6 m by 1.0 m. On one\n",
    "short edge the temperature is fixed at 100 °C, and on one long edge the\n",
    "plate is perfectly insulated so that the heat flux is zero through that\n",
    "edge. The other two edges are losing heat via convection to an ambient\n",
    "temperature of 0 °C. The thermal conductivity of the plate is 52.0 W/(m\n",
    ".°K), and the convective heat transfer coefficient is 750 W/(m^2.°K).\n",
    "There is no internal generation of heat. Calculate the temperature 0.2 m\n",
    "along the un-insulated long side, measured from the intersection with the\n",
    "fixed temperature side (we call it point A below). The reference result is 18.25 °C.\n",
    "\n",
    "The reference temperature at the point A  is 18.25 °C according to the\n",
    "NAFEMS publication (which cites the book Carslaw, H.S. and J.C. Jaeger,\n",
    "Conduction of Heat in Solids. 1959: Oxford University Press).\n",
    "\n",
    "The present  tutorial will investigate the reference temperature  and it\n",
    "will attempt to  estimate the  limit value more precisely using a\n",
    "sequence of meshes and Richardson's extrapolation."
   ]
  },
  {
   "cell_type": "code",
   "execution_count": 22,
   "metadata": {},
   "outputs": [],
   "source": [
    "using FinEtools"
   ]
  },
  {
   "cell_type": "code",
   "execution_count": 23,
   "metadata": {
    "scrolled": true
   },
   "outputs": [],
   "source": [
    "kappa = [52. 0; 0 52.]*phun(\"W/(M*K)\"); # conductivity matrix\n",
    "h = 750*phun(\"W/(M^2*K)\");# surface heat transfer coefficient\n",
    "Width = 0.6*phun(\"M\");# Geometrical dimensions\n",
    "Height = 1.0*phun(\"M\");\n",
    "HeightA = 0.2*phun(\"M\");\n",
    "Thickness = 0.1*phun(\"M\");\n",
    "tolerance  = Width/1000;\n",
    "\n",
    "material = MatHeatDiff(kappa);"
   ]
  },
  {
   "cell_type": "markdown",
   "metadata": {},
   "source": [
    "The extrapolation  requires solutions  on a sequence of meshes. The model will be constructed repeatedly  inside the loop below."
   ]
  },
  {
   "cell_type": "code",
   "execution_count": 24,
   "metadata": {},
   "outputs": [],
   "source": [
    "modeldata = nothing # I need this to exist outside of the loop: it will be used below\n",
    "resultsTempA = FFlt[]; params = FFlt[]; "
   ]
  },
  {
   "cell_type": "markdown",
   "metadata": {},
   "source": [
    "The model is constructed as follows: In order to  get a node at precisely the correct location  of point A, the domain is split into two rectangles which are meshed separately and then merged.  The meshes of the rectangles are then  repeatedly refined by quadri-section: each triangle is split into four triangles  of half the size.   The three node triangles are then converted  to  quadratic (six-node) triangles. The boundary of this mesh is then extracted and used  to construct the FEMM for the convection boundary condition. The model data is then passed to the steady-state solver. Finally, the temperature at point A is extracted and stored, and the  relative element size is also recorded."
   ]
  },
  {
   "cell_type": "code",
   "execution_count": 25,
   "metadata": {},
   "outputs": [],
   "source": [
    "for nref = 3:5\n",
    "  # The mesh is created from two rectangles, with two triangles each to begin with\n",
    "  fens,fes = T3blockx([0.0, Width], [0.0, HeightA])\n",
    "  fens2,fes2 = T3blockx([0.0, Width], [HeightA, Height])\n",
    "  fens,newfes1,fes2 = mergemeshes(fens, fes, fens2, fes2, tolerance)\n",
    "  fes = cat(newfes1,fes2)\n",
    "  # Refine the mesh desired number of times\n",
    "  for ref = 1:nref\n",
    "      fens,fes = T3refine(fens,fes);\n",
    "  end\n",
    "  # Convert  the mesh of three-node triangles  to six-node triangles\n",
    "  fens, fes = T3toT6(fens,fes);\n",
    "  # Extract the boundary of the mesh of the interior  \n",
    "  bfes = meshboundary(fes)\n",
    "  # Define boundary conditions:\n",
    "  # The prescribed temperature is applied along edge 1 (the bottom\n",
    "  # edge in Figure 1).\n",
    "  l1 = selectnode(fens; box=[0. Width 0. 0.], inflate=tolerance)\n",
    "  essential1 = FDataDict(\"node_list\"=>l1, \"temperature\"=> 100.);\n",
    "  # The convection boundary condition is applied along the edges\n",
    "  # 2,3,4. The elements along the boundary are quadratic line\n",
    "  # elements L3. The order-four Gauss quadrature is sufficiently accurate.\n",
    "  l2 = selectelem(fens, bfes; box=[Width Width  0.0 Height], inflate =tolerance)\n",
    "  l3 = selectelem(fens, bfes; box=[0.0 Width Height Height], inflate =tolerance)\n",
    "  cfemm = FEMMHeatDiffSurf(IntegData(subset(bfes,vcat(l2,l3)), GaussRule(1, 4), Thickness), h)\n",
    "  convection1 = FDataDict(\"femm\"=>cfemm, \"ambient_temperature\"=>0.);\n",
    "  # FEMM  for the interior of the domain\n",
    "  femm = FEMMHeatDiff(IntegData(fes, TriRule(3), Thickness), material)\n",
    "  region1 = FDataDict(\"femm\"=>femm)\n",
    "  # Make the model data\n",
    "  modeldata = FDataDict(\"fens\"=> fens, \"regions\"=>[region1],\n",
    "                        \"essential_bcs\"=>[essential1], \"convection_bcs\"=>[convection1]);\n",
    "  # Call the solver\n",
    "  modeldata = FinEtools.AlgoHeatDiffModule.steadystate(modeldata)\n",
    "  # Find the node at the monitored location of the point A  [coordinates (Width,HeightA)].\n",
    "  l4 = selectnode(fens; box=[Width Width HeightA HeightA], inflate =tolerance)\n",
    "  # Collect the temperature and store it \n",
    "  Temp = modeldata[\"temp\"]\n",
    "  push!(resultsTempA, Temp.values[l4][1]); push!(params, 1.0/2^nref)\n",
    "end"
   ]
  },
  {
   "cell_type": "code",
   "execution_count": 26,
   "metadata": {},
   "outputs": [
    {
     "name": "stdout",
     "output_type": "stream",
     "text": [
      "[18.2965, 18.2619, 18.255]\n"
     ]
    }
   ],
   "source": [
    "# These are the computed results for the temperature at point A:\n",
    "println(\"$( resultsTempA  )\")"
   ]
  },
  {
   "cell_type": "markdown",
   "metadata": {},
   "source": [
    "Richardson extrapolation can now be performed on the series of  data points."
   ]
  },
  {
   "cell_type": "code",
   "execution_count": 27,
   "metadata": {},
   "outputs": [
    {
     "name": "stdout",
     "output_type": "stream",
     "text": [
      "Solution estimate = 18.253269221005247\n",
      "Convergence rate estimate  = 2.330198364609821\n"
     ]
    }
   ],
   "source": [
    "solnestim, beta, c, residual = FinEtools.AlgoBaseModule.richextrapol(resultsTempA, params)\n",
    "println(\"Solution estimate = $(solnestim)\")\n",
    "println(\"Convergence rate estimate  = $(beta )\")"
   ]
  },
  {
   "cell_type": "markdown",
   "metadata": {},
   "source": [
    "Finally we plot the estimated true error and the approximate error  (as the differences of the successive solutions). The slope of the approximate error curve  is very close to the slope of the estimated true error, which is an indication that the extrapolation  had a chance to work."
   ]
  },
  {
   "cell_type": "code",
   "execution_count": 28,
   "metadata": {
    "scrolled": true
   },
   "outputs": [],
   "source": [
    "using PyCall\n",
    "@pyimport matplotlib.pyplot as plt\n",
    "plt.style[:use](\"seaborn-whitegrid\")\n",
    "fig = plt.figure() \n",
    "ax = plt.axes()\n",
    "ax[:loglog](params, abs.(resultsTempA-solnestim), marker=:o,   label= \"estimated true error\")\n",
    "ax[:loglog](params[1:2], abs.(diff(resultsTempA)), marker=:x, label=  \"approximate error\")\n",
    "ax[:set_xlim]((1.0e-2, 1.0))\n",
    "ax[:set_ylim]((1.0e-3, 0.1))\n",
    "ax[:set_xlabel](\"Element size\")\n",
    "ax[:set_ylabel](\"Temperature Error\")\n",
    "plt.legend()\n",
    "plt.show()"
   ]
  },
  {
   "cell_type": "markdown",
   "metadata": {},
   "source": [
    "## Conclusions\n",
    "\n",
    "The  solution to the benchmark problem can be refined to 18.253 degree Celsius.  If we used even more refined meshes, this could be further firmed up. You can certainly try it: simply change `nref` to range over for instance `5:7`."
   ]
  }
 ],
 "metadata": {
  "kernelspec": {
   "display_name": "Julia 0.6.1",
   "language": "julia",
   "name": "julia-0.6"
  },
  "language_info": {
   "file_extension": ".jl",
   "mimetype": "application/julia",
   "name": "julia",
   "version": "0.6.1"
  }
 },
 "nbformat": 4,
 "nbformat_minor": 2
}
