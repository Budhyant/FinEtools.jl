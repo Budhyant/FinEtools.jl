{
 "cells": [
  {
   "cell_type": "markdown",
   "metadata": {},
   "source": [
    "# Cook panel under plane stress\n",
    "\n",
    "In this example we investigate the well-known benchmark of a tapered panel under plane stress conditions known under the name of Cook.  The problem has been solved many times with a variety of finite element models  and hence the solution is well-known."
   ]
  },
  {
   "cell_type": "markdown",
   "metadata": {},
   "source": [
    "The problem is solved in a script.  We begin  by `using` the top-level module `FinEtools` and also the linear-deformation algorithm module. With the algorithm modules, the problem is set up and handed off to an algorithm (in this case linear static solution).  Then for postprocessing another set of algorithms can be invoked."
   ]
  },
  {
   "cell_type": "code",
   "execution_count": 241,
   "metadata": {
    "collapsed": true
   },
   "outputs": [],
   "source": [
    "using FinEtools\n",
    "using FinEtools.AlgoDeforLinearModule"
   ]
  },
  {
   "cell_type": "markdown",
   "metadata": {},
   "source": [
    "A few  input parameters are defined: the material parameters."
   ]
  },
  {
   "cell_type": "code",
   "execution_count": 242,
   "metadata": {
    "collapsed": true
   },
   "outputs": [],
   "source": [
    "E = 1.0;\n",
    "nu = 1.0/3;"
   ]
  },
  {
   "cell_type": "markdown",
   "metadata": {},
   "source": [
    "The geometry of the tapered panel."
   ]
  },
  {
   "cell_type": "code",
   "execution_count": 243,
   "metadata": {
    "collapsed": true
   },
   "outputs": [],
   "source": [
    "width = 48.0; height = 44.0; thickness  = 1.0;\n",
    "free_height  = 16.0;\n",
    "Mid_edge  = [48.0, 52.0];# Location of tracked  deflection"
   ]
  },
  {
   "cell_type": "markdown",
   "metadata": {},
   "source": [
    "The tapered panel is loaded along the free edge with a unit force, which is here converted to loading per unit area."
   ]
  },
  {
   "cell_type": "code",
   "execution_count": 244,
   "metadata": {
    "collapsed": true
   },
   "outputs": [],
   "source": [
    "magn = 1.0/free_height/thickness;# Magnitude of applied load"
   ]
  },
  {
   "cell_type": "markdown",
   "metadata": {},
   "source": [
    "For the above input parameters the converged displacement of the tip  of the tapered panel in the direction of the applied shear load is"
   ]
  },
  {
   "cell_type": "code",
   "execution_count": 245,
   "metadata": {
    "collapsed": true
   },
   "outputs": [],
   "source": [
    "convutip = 23.97;"
   ]
  },
  {
   "cell_type": "markdown",
   "metadata": {},
   "source": [
    "The mesh is generated as a rectangular block to begin with, and then the coordinates of the nodes are tweaked into the tapered panel shape. In this case we are using quadratic triangles."
   ]
  },
  {
   "cell_type": "code",
   "execution_count": 246,
   "metadata": {
    "collapsed": true
   },
   "outputs": [],
   "source": [
    "n = 10; # number of elements per side\n",
    "fens,fes = T6block(width, height, n, n)\n",
    "\n",
    "# Reshape into a trapezoidal panel\n",
    "for i = 1:count(fens)\n",
    "    fens.xyz[i,2] = fens.xyz[i,2]+(fens.xyz[i,1]/width)*(height -fens.xyz[i,2]/height*(height-free_height));\n",
    "end"
   ]
  },
  {
   "cell_type": "markdown",
   "metadata": {},
   "source": [
    "The  boundary conditions  are applied to selected finite element nodes.   The selection is based on the inclusion in a selection box.   The  selected nodes are then used twice,  to fix the degree of freedom  in the direction 1 and  in the direction 2."
   ]
  },
  {
   "cell_type": "code",
   "execution_count": 247,
   "metadata": {},
   "outputs": [],
   "source": [
    "tolerance = minimum([width, height])/n/1000.;#Geometrical tolerance\n",
    "# Clamped edge of the membrane\n",
    "l1 = selectnode(fens; box=[0.,0.,-Inf, Inf], inflate = tolerance);"
   ]
  },
  {
   "cell_type": "markdown",
   "metadata": {},
   "source": [
    "The list of nodes  is then used to construct entries  for the essential boundary conditions.  The  data is stored in  dictionaries: `ess1` and `ess2 `.  These dictionaries  are used below to compose the computational model."
   ]
  },
  {
   "cell_type": "code",
   "execution_count": 248,
   "metadata": {},
   "outputs": [],
   "source": [
    "ess1 = FDataDict(\"displacement\"=>  0.0, \"component\"=> 1, \"node_list\"=>l1);\n",
    "ess2 = FDataDict(\"displacement\"=>  0.0, \"component\"=> 2, \"node_list\"=>l1);"
   ]
  },
  {
   "cell_type": "markdown",
   "metadata": {},
   "source": [
    "The traction boundary condition is applied to the finite elements on the boundary of the panel. First we generate the three-node curve elements on the boundary."
   ]
  },
  {
   "cell_type": "code",
   "execution_count": 249,
   "metadata": {
    "collapsed": true
   },
   "outputs": [],
   "source": [
    "# Traction on the opposite edge\n",
    "boundaryfes =  meshboundary(fes);"
   ]
  },
  {
   "cell_type": "markdown",
   "metadata": {},
   "source": [
    "Then from these finite elements we choose the ones that are inside the box that captures the edge of the geometry to which the traction should be applied.."
   ]
  },
  {
   "cell_type": "code",
   "execution_count": 250,
   "metadata": {
    "collapsed": true
   },
   "outputs": [],
   "source": [
    "Toplist  = selectelem(fens, boundaryfes, box= [width, width, -Inf, Inf ], inflate=  tolerance);"
   ]
  },
  {
   "cell_type": "markdown",
   "metadata": {},
   "source": [
    "To apply the traction we create a finite element model machine (FEMM). For the evaluation of the traction it is sufficient to create a the base FEMM.  It consists of the geometry data `GeoD` (connectivity,  integration rule, evaluation  of the basis functions  and basis function gradients with respect to the parametric coordinates), which in turn is composed of the list of the finite elements and  an appropriate quadrature rule (Gauss rule here)."
   ]
  },
  {
   "cell_type": "code",
   "execution_count": 251,
   "metadata": {},
   "outputs": [],
   "source": [
    "el1femm = FEMMBase(GeoD(subset(boundaryfes, Toplist), GaussRule(1, 3), thickness));"
   ]
  },
  {
   "cell_type": "markdown",
   "metadata": {},
   "source": [
    "The traction boundary condition is specified with a constant traction vector and the FEMM that will be used to evaluate  the load vector."
   ]
  },
  {
   "cell_type": "code",
   "execution_count": 252,
   "metadata": {},
   "outputs": [],
   "source": [
    "flux1 = FDataDict(\"traction_vector\"=>[0.0,+magn],\n",
    "    \"femm\"=>el1femm\n",
    "    );"
   ]
  },
  {
   "cell_type": "markdown",
   "metadata": {},
   "source": [
    "We make the dictionary for the region (the interior of the domain).  The FEMM and the material are needed. The geometry data  now is equipped with the  triangular  three-point rule. Note the model-reduction type which is used to dispatch to appropriate specializations of the material routines and the FEMM which needs to execute different code for different reduced-dimension models."
   ]
  },
  {
   "cell_type": "code",
   "execution_count": 253,
   "metadata": {},
   "outputs": [],
   "source": [
    "# Make the region\n",
    "MR = DeforModelRed2DStress\n",
    "material = MatDeforElastIso(MR,  0.0, E, nu, 0.0)\n",
    "region1 = FDataDict(\"femm\"=>FEMMDeforLinear(MR,\n",
    "    GeoD(fes, TriRule(3), thickness), material));"
   ]
  },
  {
   "cell_type": "markdown",
   "metadata": {},
   "source": [
    "The model data is a dictionary.   In the present example it consists of the node set, the array of dictionaries for the regions, and arrays of dictionaries for each essential and natural boundary condition."
   ]
  },
  {
   "cell_type": "code",
   "execution_count": 254,
   "metadata": {},
   "outputs": [],
   "source": [
    "modeldata = FDataDict(\"fens\"=>fens,\n",
    " \"regions\"=>[region1],\n",
    " \"essential_bcs\"=>[ess1, ess2],\n",
    " \"traction_bcs\"=>[flux1]\n",
    " );"
   ]
  },
  {
   "cell_type": "markdown",
   "metadata": {},
   "source": [
    "When the model data is defined, we simply pass it to the algorithm."
   ]
  },
  {
   "cell_type": "code",
   "execution_count": 255,
   "metadata": {},
   "outputs": [],
   "source": [
    "# Call the solver\n",
    "modeldata = AlgoDeforLinearModule.linearstatics(modeldata);"
   ]
  },
  {
   "cell_type": "markdown",
   "metadata": {},
   "source": [
    "The model data is augmented in the algorithm by the nodal field representing the geometry and the displacement field  computed by solving the system of linear algebraic equations of equilibrium."
   ]
  },
  {
   "cell_type": "code",
   "execution_count": 256,
   "metadata": {},
   "outputs": [],
   "source": [
    "u = modeldata[\"u\"];\n",
    "geom = modeldata[\"geom\"];"
   ]
  },
  {
   "cell_type": "markdown",
   "metadata": {},
   "source": [
    "The complete information returned from the algorithm  is"
   ]
  },
  {
   "cell_type": "code",
   "execution_count": 257,
   "metadata": {},
   "outputs": [
    {
     "data": {
      "text/plain": [
       "Dict{String,Any} with 7 entries:\n",
       "  \"work\"          => 11.9988\n",
       "  \"geom\"          => FinEtools.NodalFieldModule.NodalField{Float64}([0.0 0.0; 4…\n",
       "  \"fens\"          => FinEtools.FENodeSetModule.FENodeSet([0.0 0.0; 4.8 4.4; … ;…\n",
       "  \"traction_bcs\"  => Dict{String,Any}[Dict{String,Any}(Pair{String,Any}(\"tracti…\n",
       "  \"u\"             => FinEtools.NodalFieldModule.NodalField{Float64}([0.0 0.0; 0…\n",
       "  \"essential_bcs\" => Dict{String,Any}[Dict{String,Any}(Pair{String,Any}(\"compon…\n",
       "  \"regions\"       => Dict{String,Any}[Dict{String,Any}(Pair{String,Any}(\"femm\",…"
      ]
     },
     "execution_count": 257,
     "metadata": {},
     "output_type": "execute_result"
    }
   ],
   "source": [
    "modeldata"
   ]
  },
  {
   "cell_type": "markdown",
   "metadata": {},
   "source": [
    "Now we can extract the displacement at the mid-edge node and compare to the converged (reference) value.."
   ]
  },
  {
   "cell_type": "code",
   "execution_count": 258,
   "metadata": {},
   "outputs": [
    {
     "name": "stdout",
     "output_type": "stream",
     "text": [
      "displacement =23.93976266124016 as compared to converged 23.97\n"
     ]
    }
   ],
   "source": [
    "# Extract the solution\n",
    "nl = selectnode(fens, box=[Mid_edge[1],Mid_edge[1],Mid_edge[2],Mid_edge[2]],\n",
    "          inflate=tolerance);\n",
    "theutip = u.values[nl,:]\n",
    "println(\"displacement =$(theutip[2]) as compared to converged $convutip\")"
   ]
  },
  {
   "cell_type": "markdown",
   "metadata": {},
   "source": [
    "For postprocessing  we will export a VTK file  with the displacement field (vectors)  and  one scalar field ($\\sigma_{xy}$)."
   ]
  },
  {
   "cell_type": "code",
   "execution_count": 259,
   "metadata": {},
   "outputs": [],
   "source": [
    "modeldata[\"postprocessing\"] = FDataDict(\"file\"=>\"cookstress\",\n",
    "   \"quantity\"=>:Cauchy, \"component\"=>:xy);\n",
    "modeldata = AlgoDeforLinearModule.exportstress(modeldata);"
   ]
  },
  {
   "cell_type": "markdown",
   "metadata": {},
   "source": [
    "The  attribute `\"postprocessing\"` holds additional data computed and returned by the algorithm:"
   ]
  },
  {
   "cell_type": "code",
   "execution_count": 260,
   "metadata": {},
   "outputs": [
    {
     "data": {
      "text/plain": [
       "Dict{String,Any} with 5 entries:\n",
       "  \"file\"            => \"cookstress\"\n",
       "  \"component\"       => :xy\n",
       "  \"exported_files\"  => String[\"cookstress-Cauchyxy-region 1.vtk\"]\n",
       "  \"exported_fields\" => FinEtools.FieldModule.Field[FinEtools.NodalFieldModule.N…\n",
       "  \"quantity\"        => :Cauchy"
      ]
     },
     "execution_count": 260,
     "metadata": {},
     "output_type": "execute_result"
    }
   ],
   "source": [
    "modeldata[\"postprocessing\"]"
   ]
  },
  {
   "cell_type": "markdown",
   "metadata": {},
   "source": [
    "Provided we have  `paraview` in the PATH, we can bring it up  to display the exported data."
   ]
  },
  {
   "cell_type": "code",
   "execution_count": 261,
   "metadata": {},
   "outputs": [],
   "source": [
    "File = modeldata[\"postprocessing\"][\"exported_files\"][1]\n",
    "@async run(`\"paraview.exe\" $File`);"
   ]
  },
  {
   "cell_type": "markdown",
   "metadata": {},
   "source": [
    "We can also extract the minimum and maximum value of the shear stress."
   ]
  },
  {
   "cell_type": "code",
   "execution_count": 262,
   "metadata": {},
   "outputs": [
    {
     "name": "stdout",
     "output_type": "stream",
     "text": [
      "-0.06292574794975273 0.12022571940768388\n"
     ]
    }
   ],
   "source": [
    "fld = modeldata[\"postprocessing\"][\"exported_fields\"][1]\n",
    "println(\"$(minimum(fld.values)) $(maximum(fld.values))\")"
   ]
  }
 ],
 "metadata": {
  "kernelspec": {
   "display_name": "Julia 0.6.0",
   "language": "julia",
   "name": "julia-0.6"
  },
  "language_info": {
   "file_extension": ".jl",
   "mimetype": "application/julia",
   "name": "julia",
   "version": "0.6.0"
  }
 },
 "nbformat": 4,
 "nbformat_minor": 2
}
