{
 "cells": [
  {
   "cell_type": "markdown",
   "metadata": {},
   "source": [
    "# MEMS thermomechanical actuator\n",
    "\n",
    "The actuator is etched from crystalline silicon, produced layer-by-layer [http://hogwarts.ucsd.edu/~pkrysl/femwabaquspython-book/]. The termini are attached to contact plates which are part of the substrate, and the actuator is cantilevered from the termini.\n",
    "\n",
    "It is actuated by thermally-generated strains.  The heat is produced by running electric current through the structure, either through the loop that consists of the inner legs, or through the loop that consists of the outer legs.\n",
    "When the voltage to generate the current is applied on the termini of the inner legs, the inner legs warm up more than the rest of the structure, and since the inner legs are on a lower level then the outer legs and since they get longer, the actuator bends upwards.  If the voltage is applied to the termini of the outer legs, the outer legs warm up more than the inner legs, and since they get longer and since they are on a higher level than the inner legs the actuator bends downwards.\n",
    "Given the tiny size, the thermal inertia is very small, and the actuation can be performed at the rate of hundreds of cycles per second. Mechanical inertia can also be ignored, at least in the first approximation.\n",
    "Finally, we may assume that the silicon material properties do not change very much when the silicon is heated.\n",
    "\n",
    "In this example  we solve the heat conduction problem for the actuator."
   ]
  },
  {
   "cell_type": "markdown",
   "metadata": {},
   "source": [
    "The actuator has a plane of symmetry, which will be taken advantage of here and hence we will mesh only half of the actual geometry of the actuator. The complete mesh is generated  as a collection of meshes which are glued together. Each individual mesh is generated within a single  hexahedron volume. First we set up the geometry and  the meshing parameters."
   ]
  },
  {
   "cell_type": "code",
   "execution_count": 15,
   "metadata": {
    "collapsed": true
   },
   "outputs": [],
   "source": [
    "using FinEtools\n",
    "x0 =  0.0*phun(\"micro*m\");\n",
    "x1 = x0+5.0*phun(\"micro*m\");\n",
    "x2 = x1+10.0*phun(\"micro*m\");\n",
    "x3 = x2+10.0*phun(\"micro*m\");\n",
    "x4 = x3+10.0*phun(\"micro*m\");\n",
    "y0 = 0.0*phun(\"micro*m\");\n",
    "y4 = 250.0*phun(\"micro*m\");\n",
    "y3 = y4-10.0*phun(\"micro*m\");\n",
    "y2 = y3-10.0*phun(\"micro*m\");\n",
    "y1 = y2-10.0*phun(\"micro*m\");\n",
    "t = 2.0*phun(\"micro*m\");\n",
    "h = 0.1*phun(\"micro*m\");\n",
    "z0 = 0.0*phun(\"micro*m\");\n",
    "z3 = 2*t+h;\n",
    "z2 = z3-t;\n",
    "z1 = z2-h;\n",
    "m1 = 2*2;\n",
    "m2 = 2*2;\n",
    "m3 = 2*2;\n",
    "m4 = 3*2;\n",
    "n1 = 20*2;\n",
    "n2 = 4*2;\n",
    "n3 = 2*2;\n",
    "n4 = 2*2;\n",
    "n5 = 7*2;\n",
    "p1 = 1*2;\n",
    "p2 = 1*2;\n",
    "p3 = 1*2;"
   ]
  },
  {
   "cell_type": "markdown",
   "metadata": {},
   "source": [
    "With these parameters at hand we generate  the meshes inside the hexahedra, always merging the new mesh with the old one."
   ]
  },
  {
   "cell_type": "code",
   "execution_count": 16,
   "metadata": {
    "collapsed": true
   },
   "outputs": [],
   "source": [
    "fens,fes =  H8hexahedron([x1 y0 z0; x2 y1 z1],m2,n1,p1);\n",
    "fens1,fes1  =  H8hexahedron([x1 y1 z0;x2 y2 z1],m2,n2,p1);\n",
    "fens,fes1,fes2  =  mergemeshes(fens1, fes1, fens, fes, 1.0e6*eps(h));\n",
    "fes =  cat(fes1,fes2);\n",
    "fens1,fes1  =  H8hexahedron([x0 y1 z0;x1 y2 z1],m1,n2,p1);\n",
    "fens,fes1,fes2  =  mergemeshes(fens1, fes1, fens, fes, 1.0e6*eps(h));\n",
    "fes =  cat(fes1,fes2);\n",
    "fens1,fes1  =  H8hexahedron([x0 y1 z1;x1 y2 z2], m1,n2,p2);\n",
    "fens,fes1,fes2  =  mergemeshes(fens1, fes1, fens, fes, 1.0e6*eps(h));\n",
    "fes =  cat(fes1,fes2);\n",
    "fens1,fes1  =  H8hexahedron([x0 y1 z2;x1 y2 z3],m1,n2,p3);\n",
    "fens,fes1,fes2  =  mergemeshes(fens1, fes1, fens, fes, 1.0e6*eps(h));\n",
    "fes =  cat(fes1,fes2);\n",
    "fens1,fes1  =  H8hexahedron([x0 y2 z2;x1 y3 z3],m1,n3,p3);\n",
    "fens,fes1,fes2  =  mergemeshes(fens1, fes1, fens, fes, 1.0e6*eps(h));\n",
    "fes =  cat(fes1,fes2);\n",
    "fens1,fes1  =  H8hexahedron([x0 y3 z2;x1 y4 z3], m1,n4,p3);\n",
    "fens,fes1,fes2  =  mergemeshes(fens1, fes1, fens, fes, 1.0e6*eps(h));\n",
    "fes =  cat(fes1,fes2);\n",
    "fens1,fes1  =  H8hexahedron([x1 y3 z2;x3 y4 z3],m4,n4,p3);\n",
    "fens,fes1,fes2  =  mergemeshes(fens1, fes1, fens, fes, 1.0e6*eps(h));\n",
    "fes =  cat(fes1,fes2);\n",
    "fens1,fes1  =  H8hexahedron([x3 y3 z2;x4 y4 z3],m3,n4,p3);\n",
    "fens,fes1,fes2  =  mergemeshes(fens1, fes1, fens, fes, 1.0e6*eps(h));\n",
    "fes =  cat(fes1,fes2);\n",
    "fens1,fes1  =  H8hexahedron([x3 y0 z2;x4 y3 z3], m3,n5,p3);\n",
    "fens,fes1,fes2  =  mergemeshes(fens1, fes1, fens, fes, 1.0e6*eps(h));\n",
    "fes =  cat(fes1,fes2);"
   ]
  },
  {
   "cell_type": "markdown",
   "metadata": {},
   "source": [
    "The eight node hexahedra are subsequently converted to the serendipity quadratic elements."
   ]
  },
  {
   "cell_type": "code",
   "execution_count": 17,
   "metadata": {
    "collapsed": true
   },
   "outputs": [],
   "source": [
    "fens,fes  =  H8toH20(fens,fes);"
   ]
  },
  {
   "cell_type": "markdown",
   "metadata": {},
   "source": [
    "We define  the other parameters of the problem, the thermal conductivity  and the thermal loading driven by the Joule (resistive) heating."
   ]
  },
  {
   "cell_type": "code",
   "execution_count": 18,
   "metadata": {
    "collapsed": true
   },
   "outputs": [],
   "source": [
    "kappa = 157*eye(3, 3)*phun(\"W/m/K\"); # W/m/K, conductivity matrix\n",
    "DV = 5*phun(\"V\"); # voltage drop in volt\n",
    "ell  = 2*(y1+y2)/2+2*(x1+x2)/2; # length of the conductor\n",
    "resistivity  =  1.1e-5*phun(\"Ohm*m\"); # Ohm m\n",
    "Q = DV^2/resistivity/ell^2; # rate of Joule heating, W/m^3\n",
    "T_substrate = 293; # substrate temperature in degrees Kelvin\n",
    "mater = MatHeatDiff(kappa);"
   ]
  },
  {
   "cell_type": "markdown",
   "metadata": {},
   "source": [
    "In the present tutorial we do not use an algorithm to obtain the solution.  All the steps of the solution process are spelled out."
   ]
  },
  {
   "cell_type": "markdown",
   "metadata": {},
   "source": [
    "We split the entire geometry of the actuator into  the part that is heated by the current running through the structure, and the rest.  Using a box we select the hexahedral finite elements that are  part of the hot leg of the structure."
   ]
  },
  {
   "cell_type": "code",
   "execution_count": 19,
   "metadata": {
    "collapsed": true
   },
   "outputs": [],
   "source": [
    "cl =  selectelem(fens, fes, box=[x0,x2,y0,y2,z0,z1],inflate = t/100);"
   ]
  },
  {
   "cell_type": "markdown",
   "metadata": {},
   "source": [
    "The two  FEMMs are then generated"
   ]
  },
  {
   "cell_type": "code",
   "execution_count": 20,
   "metadata": {
    "collapsed": true
   },
   "outputs": [],
   "source": [
    "hotfemm  =  FEMMHeatDiff(GeoD(subset(fes,cl), GaussRule(3, 3), 0.), mater)\n",
    "coldfemm  = FEMMHeatDiff(GeoD(subset(fes,setdiff(collect(1:count(fes)), cl)),\n",
    "  GaussRule(3, 3), 0.), mater);"
   ]
  },
  {
   "cell_type": "markdown",
   "metadata": {},
   "source": [
    "We create the geometry  and the temperature  nodal fields."
   ]
  },
  {
   "cell_type": "code",
   "execution_count": 21,
   "metadata": {
    "collapsed": true
   },
   "outputs": [],
   "source": [
    "geom = NodalField(fens.xyz)\n",
    "Temp = NodalField(zeros(size(fens.xyz,1),1));"
   ]
  },
  {
   "cell_type": "markdown",
   "metadata": {},
   "source": [
    "We select the ends  of the actuator legs where the actuator is connected to the substrate, and we apply a fixed temperature condition at these nodes."
   ]
  },
  {
   "cell_type": "code",
   "execution_count": 22,
   "metadata": {
    "collapsed": true
   },
   "outputs": [],
   "source": [
    "fenids = selectnode(fens, box=[x0,x4,y0,y0,z0,z3],\n",
    "    inflate=t/1000) ; # fixed temperature on substrate\n",
    "setebc!(Temp, fenids, true, 1, T_substrate)\n",
    "applyebc!(Temp);"
   ]
  },
  {
   "cell_type": "markdown",
   "metadata": {},
   "source": [
    "The degrees of freedom of the temperature field are then numbered."
   ]
  },
  {
   "cell_type": "code",
   "execution_count": 23,
   "metadata": {
    "collapsed": true
   },
   "outputs": [],
   "source": [
    "numberdofs!(Temp);"
   ]
  },
  {
   "cell_type": "markdown",
   "metadata": {},
   "source": [
    "Now we are ready to calculate the conductivity matrix.  Since the interior domain is split into two pieces, the conductivity matrix  is computed separately for each."
   ]
  },
  {
   "cell_type": "code",
   "execution_count": 24,
   "metadata": {
    "collapsed": true
   },
   "outputs": [],
   "source": [
    "K = conductivity(hotfemm, geom, Temp) + conductivity(coldfemm, geom, Temp);"
   ]
  },
  {
   "cell_type": "markdown",
   "metadata": {},
   "source": [
    "The Joule heating is applied to the heated part of the domain only."
   ]
  },
  {
   "cell_type": "code",
   "execution_count": 25,
   "metadata": {
    "collapsed": true
   },
   "outputs": [],
   "source": [
    "fi = ForceIntensity(FFlt[Q]);\n",
    "F = distribloads(hotfemm, geom, Temp, fi, 3);"
   ]
  },
  {
   "cell_type": "markdown",
   "metadata": {},
   "source": [
    "The prescribed temperature condition also generates loads on the free degrees of freedom (the nonzero essential boundary condition loads)."
   ]
  },
  {
   "cell_type": "code",
   "execution_count": 26,
   "metadata": {
    "collapsed": true
   },
   "outputs": [],
   "source": [
    "F  = F + nzebcloadsconductivity(hotfemm, geom, Temp) + nzebcloadsconductivity(coldfemm, geom, Temp);"
   ]
  },
  {
   "cell_type": "markdown",
   "metadata": {},
   "source": [
    "We have  constructed the linear algebra representation for the overall  discrete system. Now we solve for the free degrees of freedom and distribute the solution  into the temperature field."
   ]
  },
  {
   "cell_type": "code",
   "execution_count": 27,
   "metadata": {
    "collapsed": true
   },
   "outputs": [],
   "source": [
    "U = K\\F\n",
    "scattersysvec!(Temp,U[:]);"
   ]
  },
  {
   "cell_type": "raw",
   "metadata": {},
   "source": [
    "The solution is presented as a line plot. Two series of nodes along the hot and cold legs  are selected, and their temperature is plotted against the distance along the leg."
   ]
  },
  {
   "cell_type": "code",
   "execution_count": 28,
   "metadata": {},
   "outputs": [
    {
     "data": {
      "text/html": [
       "<?xml version=\"1.0\" encoding=\"utf-8\"?>\n",
       "<svg xmlns=\"http://www.w3.org/2000/svg\" xmlns:xlink=\"http://www.w3.org/1999/xlink\" width=\"600\" height=\"400\" viewBox=\"0 0 600 400\">\n",
       "<defs>\n",
       "  <clipPath id=\"clip00\">\n",
       "    <rect x=\"0\" y=\"0\" width=\"600\" height=\"400\"/>\n",
       "  </clipPath>\n",
       "</defs>\n",
       "<polygon clip-path=\"url(#clip00)\" points=\"\n",
       "0,400 600,400 600,0 0,0 \n",
       "  \" fill=\"#ffffff\" fill-opacity=\"1\"/>\n",
       "<defs>\n",
       "  <clipPath id=\"clip01\">\n",
       "    <rect x=\"120\" y=\"0\" width=\"421\" height=\"400\"/>\n",
       "  </clipPath>\n",
       "</defs>\n",
       "<polygon clip-path=\"url(#clip00)\" points=\"\n",
       "39.3701,368.504 592.126,368.504 592.126,7.87402 39.3701,7.87402 \n",
       "  \" fill=\"#ffffff\" fill-opacity=\"1\"/>\n",
       "<defs>\n",
       "  <clipPath id=\"clip02\">\n",
       "    <rect x=\"39\" y=\"7\" width=\"554\" height=\"362\"/>\n",
       "  </clipPath>\n",
       "</defs>\n",
       "<polyline clip-path=\"url(#clip02)\" style=\"stroke:#000000; stroke-width:1; stroke-opacity:0.5; fill:none\" stroke-dasharray=\"1, 2\" points=\"\n",
       "  39.3701,363.094 39.3701,13.2835 \n",
       "  \"/>\n",
       "<polyline clip-path=\"url(#clip02)\" style=\"stroke:#000000; stroke-width:1; stroke-opacity:0.5; fill:none\" stroke-dasharray=\"1, 2\" points=\"\n",
       "  154.528,363.094 154.528,13.2835 \n",
       "  \"/>\n",
       "<polyline clip-path=\"url(#clip02)\" style=\"stroke:#000000; stroke-width:1; stroke-opacity:0.5; fill:none\" stroke-dasharray=\"1, 2\" points=\"\n",
       "  269.685,363.094 269.685,13.2835 \n",
       "  \"/>\n",
       "<polyline clip-path=\"url(#clip02)\" style=\"stroke:#000000; stroke-width:1; stroke-opacity:0.5; fill:none\" stroke-dasharray=\"1, 2\" points=\"\n",
       "  384.843,363.094 384.843,13.2835 \n",
       "  \"/>\n",
       "<polyline clip-path=\"url(#clip02)\" style=\"stroke:#000000; stroke-width:1; stroke-opacity:0.5; fill:none\" stroke-dasharray=\"1, 2\" points=\"\n",
       "  500,363.094 500,13.2835 \n",
       "  \"/>\n",
       "<polyline clip-path=\"url(#clip02)\" style=\"stroke:#000000; stroke-width:1; stroke-opacity:0.5; fill:none\" stroke-dasharray=\"1, 2\" points=\"\n",
       "  47.6614,299.96 583.835,299.96 \n",
       "  \"/>\n",
       "<polyline clip-path=\"url(#clip02)\" style=\"stroke:#000000; stroke-width:1; stroke-opacity:0.5; fill:none\" stroke-dasharray=\"1, 2\" points=\"\n",
       "  47.6614,134.395 583.835,134.395 \n",
       "  \"/>\n",
       "<polyline clip-path=\"url(#clip00)\" style=\"stroke:#000000; stroke-width:1; stroke-opacity:1; fill:none\" points=\"\n",
       "  39.3701,368.504 592.126,368.504 \n",
       "  \"/>\n",
       "<polyline clip-path=\"url(#clip00)\" style=\"stroke:#000000; stroke-width:1; stroke-opacity:1; fill:none\" points=\"\n",
       "  39.3701,368.504 39.3701,363.094 \n",
       "  \"/>\n",
       "<polyline clip-path=\"url(#clip00)\" style=\"stroke:#000000; stroke-width:1; stroke-opacity:1; fill:none\" points=\"\n",
       "  154.528,368.504 154.528,363.094 \n",
       "  \"/>\n",
       "<polyline clip-path=\"url(#clip00)\" style=\"stroke:#000000; stroke-width:1; stroke-opacity:1; fill:none\" points=\"\n",
       "  269.685,368.504 269.685,363.094 \n",
       "  \"/>\n",
       "<polyline clip-path=\"url(#clip00)\" style=\"stroke:#000000; stroke-width:1; stroke-opacity:1; fill:none\" points=\"\n",
       "  384.843,368.504 384.843,363.094 \n",
       "  \"/>\n",
       "<polyline clip-path=\"url(#clip00)\" style=\"stroke:#000000; stroke-width:1; stroke-opacity:1; fill:none\" points=\"\n",
       "  500,368.504 500,363.094 \n",
       "  \"/>\n",
       "<polyline clip-path=\"url(#clip00)\" style=\"stroke:#000000; stroke-width:1; stroke-opacity:1; fill:none\" points=\"\n",
       "  39.3701,368.504 39.3701,7.87402 \n",
       "  \"/>\n",
       "<polyline clip-path=\"url(#clip00)\" style=\"stroke:#000000; stroke-width:1; stroke-opacity:1; fill:none\" points=\"\n",
       "  39.3701,299.96 47.6614,299.96 \n",
       "  \"/>\n",
       "<polyline clip-path=\"url(#clip00)\" style=\"stroke:#000000; stroke-width:1; stroke-opacity:1; fill:none\" points=\"\n",
       "  39.3701,134.395 47.6614,134.395 \n",
       "  \"/>\n",
       "<g clip-path=\"url(#clip00)\">\n",
       "<text style=\"fill:#000000; fill-opacity:1; font-family:Arial,Helvetica Neue,Helvetica,sans-serif; font-size:12; text-anchor:middle;\" transform=\"rotate(0, 39.3701, 382.304)\" x=\"39.3701\" y=\"382.304\">0.00000</text>\n",
       "</g>\n",
       "<g clip-path=\"url(#clip00)\">\n",
       "<text style=\"fill:#000000; fill-opacity:1; font-family:Arial,Helvetica Neue,Helvetica,sans-serif; font-size:12; text-anchor:middle;\" transform=\"rotate(0, 154.528, 382.304)\" x=\"154.528\" y=\"382.304\">0.00005</text>\n",
       "</g>\n",
       "<g clip-path=\"url(#clip00)\">\n",
       "<text style=\"fill:#000000; fill-opacity:1; font-family:Arial,Helvetica Neue,Helvetica,sans-serif; font-size:12; text-anchor:middle;\" transform=\"rotate(0, 269.685, 382.304)\" x=\"269.685\" y=\"382.304\">0.00010</text>\n",
       "</g>\n",
       "<g clip-path=\"url(#clip00)\">\n",
       "<text style=\"fill:#000000; fill-opacity:1; font-family:Arial,Helvetica Neue,Helvetica,sans-serif; font-size:12; text-anchor:middle;\" transform=\"rotate(0, 384.843, 382.304)\" x=\"384.843\" y=\"382.304\">0.00015</text>\n",
       "</g>\n",
       "<g clip-path=\"url(#clip00)\">\n",
       "<text style=\"fill:#000000; fill-opacity:1; font-family:Arial,Helvetica Neue,Helvetica,sans-serif; font-size:12; text-anchor:middle;\" transform=\"rotate(0, 500, 382.304)\" x=\"500\" y=\"382.304\">0.00020</text>\n",
       "</g>\n",
       "<g clip-path=\"url(#clip00)\">\n",
       "<text style=\"fill:#000000; fill-opacity:1; font-family:Arial,Helvetica Neue,Helvetica,sans-serif; font-size:12; text-anchor:end;\" transform=\"rotate(0, 33.3701, 304.46)\" x=\"33.3701\" y=\"304.46\">500</text>\n",
       "</g>\n",
       "<g clip-path=\"url(#clip00)\">\n",
       "<text style=\"fill:#000000; fill-opacity:1; font-family:Arial,Helvetica Neue,Helvetica,sans-serif; font-size:12; text-anchor:end;\" transform=\"rotate(0, 33.3701, 138.895)\" x=\"33.3701\" y=\"138.895\">1000</text>\n",
       "</g>\n",
       "<g clip-path=\"url(#clip00)\">\n",
       "<text style=\"fill:#000000; fill-opacity:1; font-family:Arial,Helvetica Neue,Helvetica,sans-serif; font-size:16; text-anchor:middle;\" transform=\"rotate(0, 315.748, 397.6)\" x=\"315.748\" y=\"397.6\">Distance  [m]</text>\n",
       "</g>\n",
       "<g clip-path=\"url(#clip00)\">\n",
       "<text style=\"fill:#000000; fill-opacity:1; font-family:Arial,Helvetica Neue,Helvetica,sans-serif; font-size:16; text-anchor:middle;\" transform=\"rotate(-90, 14.4, 188.189)\" x=\"14.4\" y=\"188.189\">Temperature [degree Kelvin]</text>\n",
       "</g>\n",
       "<polyline clip-path=\"url(#clip02)\" style=\"stroke:#ff0000; stroke-width:1; stroke-opacity:1; fill:none\" points=\"\n",
       "  39.3701,368.504 45.7037,357.707 52.0374,347.073 58.3711,336.604 64.7047,326.299 71.0384,316.158 77.372,306.181 83.7057,296.368 90.0394,286.719 96.373,277.235 \n",
       "  102.707,267.914 109.04,258.758 115.374,249.766 121.708,240.937 128.041,232.273 134.375,223.773 140.709,215.437 147.042,207.266 153.376,199.258 159.71,191.414 \n",
       "  166.043,183.735 172.377,176.22 178.711,168.868 185.044,161.681 191.378,154.658 197.712,147.799 204.045,141.104 210.379,134.574 216.713,128.207 223.046,122.004 \n",
       "  229.38,115.966 235.714,110.092 242.047,104.381 248.381,98.8351 254.715,93.4531 261.048,88.2352 267.382,83.1813 273.716,78.2916 280.049,73.566 286.383,69.0044 \n",
       "  292.717,64.607 299.05,60.3737 305.384,56.3045 311.718,52.3994 318.051,48.6583 324.385,45.0814 330.719,41.6686 337.052,38.4199 343.386,35.3353 349.719,32.4148 \n",
       "  356.053,29.6584 362.387,27.0661 368.72,24.6379 375.054,22.3738 381.388,20.2739 387.721,18.338 394.055,16.5662 400.389,14.9585 406.722,13.5149 413.056,12.2355 \n",
       "  419.39,11.1201 425.723,10.1688 432.057,9.38166 438.391,8.7586 444.724,8.29964 451.058,8.00478 457.392,7.87402 463.725,7.9074 470.059,8.10492 476.393,8.4664 \n",
       "  482.726,8.99204 489.06,9.68258 495.394,10.5379 501.727,11.5555 508.061,12.74 514.395,14.1021 520.728,15.6515 527.062,17.3426 533.396,19.3537 539.729,21.7145 \n",
       "  546.063,25.8021 \n",
       "  \"/>\n",
       "<polyline clip-path=\"url(#clip02)\" style=\"stroke:#0000ff; stroke-width:1; stroke-opacity:1; fill:none\" points=\"\n",
       "  39.3701,368.504 59.1114,358.705 78.8526,348.906 98.5939,339.107 118.335,329.308 138.076,319.509 157.818,309.71 177.559,299.911 197.3,290.112 217.042,280.313 \n",
       "  236.783,270.514 256.524,260.715 276.265,250.916 296.007,241.117 315.748,231.318 335.489,221.519 355.231,211.72 374.972,201.921 394.713,192.122 414.454,182.323 \n",
       "  434.196,172.524 453.937,162.726 473.678,152.924 493.42,143.129 513.161,133.304 532.902,123.544 552.643,113.52 572.385,103.979 592.126,91.5716 \n",
       "  \"/>\n",
       "<polygon clip-path=\"url(#clip00)\" points=\"\n",
       "473.285,74.114 574.126,74.114 574.126,28.754 473.285,28.754 \n",
       "  \" fill=\"#ffffff\" fill-opacity=\"1\"/>\n",
       "<polyline clip-path=\"url(#clip00)\" style=\"stroke:#000000; stroke-width:1; stroke-opacity:1; fill:none\" points=\"\n",
       "  473.285,74.114 574.126,74.114 574.126,28.754 473.285,28.754 473.285,74.114 \n",
       "  \"/>\n",
       "<polyline clip-path=\"url(#clip00)\" style=\"stroke:#ff0000; stroke-width:1; stroke-opacity:1; fill:none\" points=\"\n",
       "  479.285,43.874 515.285,43.874 \n",
       "  \"/>\n",
       "<g clip-path=\"url(#clip00)\">\n",
       "<text style=\"fill:#000000; fill-opacity:1; font-family:Arial,Helvetica Neue,Helvetica,sans-serif; font-size:12; text-anchor:start;\" transform=\"rotate(0, 521.285, 48.374)\" x=\"521.285\" y=\"48.374\">hot leg</text>\n",
       "</g>\n",
       "<polyline clip-path=\"url(#clip00)\" style=\"stroke:#0000ff; stroke-width:1; stroke-opacity:1; fill:none\" points=\"\n",
       "  479.285,58.994 515.285,58.994 \n",
       "  \"/>\n",
       "<g clip-path=\"url(#clip00)\">\n",
       "<text style=\"fill:#000000; fill-opacity:1; font-family:Arial,Helvetica Neue,Helvetica,sans-serif; font-size:12; text-anchor:start;\" transform=\"rotate(0, 521.285, 63.494)\" x=\"521.285\" y=\"63.494\">cold leg</text>\n",
       "</g>\n",
       "</svg>\n"
      ]
     },
     "execution_count": 28,
     "metadata": {},
     "output_type": "execute_result"
    }
   ],
   "source": [
    "using Plots\n",
    "gr()\n",
    "nList = selectnode(fens, box=[x1,x1,y0,y1,z1,z1], inflate=t/1000)\n",
    "y_i = geom.values[nList, 2]\n",
    "T_i = Temp.values[nList, 1]\n",
    "ix = sortperm(y_i)\n",
    "plot(y_i[ix], T_i[ix], color=:red, label= \"hot leg\")\n",
    "\n",
    "nList = selectnode(fens, box=[x3,x3,y0,y3,z2,z2], inflate=t/1000)\n",
    "y_o = geom.values[nList, 2]\n",
    "T_o = Temp.values[nList, 1]\n",
    "ix = sortperm(y_o)\n",
    "plot!(y_o[ix], T_o[ix], color=:blue, label= \"cold leg\")\n",
    "plot!(xlabel = \"Distance  [m]\", ylabel = \"Temperature [degree Kelvin]\")"
   ]
  }
 ],
 "metadata": {
  "kernelspec": {
   "display_name": "Julia 0.6.0",
   "language": "julia",
   "name": "julia-0.6"
  },
  "language_info": {
   "file_extension": ".jl",
   "mimetype": "application/julia",
   "name": "julia",
   "version": "0.6.0"
  }
 },
 "nbformat": 4,
 "nbformat_minor": 2
}
