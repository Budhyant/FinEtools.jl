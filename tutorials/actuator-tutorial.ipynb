{
 "cells": [
  {
   "cell_type": "markdown",
   "metadata": {},
   "source": [
    "# MEMS thermomechanical actuator\n",
    "\n",
    "The actuator is etched from crystalline silicon, produced layer-by-layer [http://hogwarts.ucsd.edu/~pkrysl/femwabaquspython-book/]. The termini are attached to contact plates which are part of the substrate, and the actuator is cantilevered from the termini.\n",
    "\n",
    "It is actuated by thermally-generated strains.  The heat is produced by running electric current through the structure, either through the loop that consists of the inner legs, or through the loop that consists of the outer legs.\n",
    "When the voltage to generate the current is applied on the termini of the inner legs, the inner legs warm up more than the rest of the structure, and since the inner legs are on a lower level then the outer legs and since they get longer, the actuator bends upwards.  If the voltage is applied to the termini of the outer legs, the outer legs warm up more than the inner legs, and since they get longer and since they are on a higher level than the inner legs the actuator bends downwards.\n",
    "Given the tiny size, the thermal inertia is very small, and the actuation can be performed at the rate of hundreds of cycles per second. Mechanical inertia can also be ignored, at least in the first approximation.\n",
    "Finally, we may assume that the silicon material properties do not change very much when the silicon is heated.\n",
    "\n",
    "In this example  we solve the heat conduction problem for the actuator."
   ]
  },
  {
   "cell_type": "markdown",
   "metadata": {},
   "source": [
    "The actuator has a plane of symmetry, which will be taken advantage of here and hence we will mesh only half of the actual geometry of the actuator. The complete mesh is generated  as a collection of meshes which are glued together. Each individual mesh is generated within a single  hexahedron volume. First we set up the geometry and  the meshing parameters."
   ]
  },
  {
   "cell_type": "code",
   "execution_count": 62,
   "metadata": {
    "collapsed": true
   },
   "outputs": [],
   "source": [
    "using FinEtools\n",
    "x0 =  0.0*phun(\"micro*m\");\n",
    "x1 = x0+5.0*phun(\"micro*m\");\n",
    "x2 = x1+10.0*phun(\"micro*m\");\n",
    "x3 = x2+10.0*phun(\"micro*m\");\n",
    "x4 = x3+10.0*phun(\"micro*m\");\n",
    "y0 = 0.0*phun(\"micro*m\");\n",
    "y4 = 250.0*phun(\"micro*m\");\n",
    "y3 = y4-10.0*phun(\"micro*m\");\n",
    "y2 = y3-10.0*phun(\"micro*m\");\n",
    "y1 = y2-10.0*phun(\"micro*m\");\n",
    "t = 2.0*phun(\"micro*m\");\n",
    "h = 0.1*phun(\"micro*m\");\n",
    "z0 = 0.0*phun(\"micro*m\");\n",
    "z3 = 2*t+h;\n",
    "z2 = z3-t;\n",
    "z1 = z2-h;\n",
    "m1 = 2*2;\n",
    "m2 = 2*2;\n",
    "m3 = 2*2;\n",
    "m4 = 3*2;\n",
    "n1 = 20*2;\n",
    "n2 = 4*2;\n",
    "n3 = 2*2;\n",
    "n4 = 2*2;\n",
    "n5 = 7*2;\n",
    "p1 = 1*2;\n",
    "p2 = 1*2;\n",
    "p3 = 1*2;"
   ]
  },
  {
   "cell_type": "markdown",
   "metadata": {},
   "source": [
    "With these parameters at hand we generate  the meshes inside the hexahedra, always merging the new mesh with the old one."
   ]
  },
  {
   "cell_type": "code",
   "execution_count": 63,
   "metadata": {
    "collapsed": true
   },
   "outputs": [],
   "source": [
    "fens,fes =  H8hexahedron([x1 y0 z0; x2 y1 z1],m2,n1,p1);\n",
    "fens1,fes1  =  H8hexahedron([x1 y1 z0;x2 y2 z1],m2,n2,p1);\n",
    "fens,fes1,fes2  =  mergemeshes(fens1, fes1, fens, fes, 1.0e6*eps(h));\n",
    "fes =  cat(fes1,fes2);\n",
    "fens1,fes1  =  H8hexahedron([x0 y1 z0;x1 y2 z1],m1,n2,p1);\n",
    "fens,fes1,fes2  =  mergemeshes(fens1, fes1, fens, fes, 1.0e6*eps(h));\n",
    "fes =  cat(fes1,fes2);\n",
    "fens1,fes1  =  H8hexahedron([x0 y1 z1;x1 y2 z2], m1,n2,p2);\n",
    "fens,fes1,fes2  =  mergemeshes(fens1, fes1, fens, fes, 1.0e6*eps(h));\n",
    "fes =  cat(fes1,fes2);\n",
    "fens1,fes1  =  H8hexahedron([x0 y1 z2;x1 y2 z3],m1,n2,p3);\n",
    "fens,fes1,fes2  =  mergemeshes(fens1, fes1, fens, fes, 1.0e6*eps(h));\n",
    "fes =  cat(fes1,fes2);\n",
    "fens1,fes1  =  H8hexahedron([x0 y2 z2;x1 y3 z3],m1,n3,p3);\n",
    "fens,fes1,fes2  =  mergemeshes(fens1, fes1, fens, fes, 1.0e6*eps(h));\n",
    "fes =  cat(fes1,fes2);\n",
    "fens1,fes1  =  H8hexahedron([x0 y3 z2;x1 y4 z3], m1,n4,p3);\n",
    "fens,fes1,fes2  =  mergemeshes(fens1, fes1, fens, fes, 1.0e6*eps(h));\n",
    "fes =  cat(fes1,fes2);\n",
    "fens1,fes1  =  H8hexahedron([x1 y3 z2;x3 y4 z3],m4,n4,p3);\n",
    "fens,fes1,fes2  =  mergemeshes(fens1, fes1, fens, fes, 1.0e6*eps(h));\n",
    "fes =  cat(fes1,fes2);\n",
    "fens1,fes1  =  H8hexahedron([x3 y3 z2;x4 y4 z3],m3,n4,p3);\n",
    "fens,fes1,fes2  =  mergemeshes(fens1, fes1, fens, fes, 1.0e6*eps(h));\n",
    "fes =  cat(fes1,fes2);\n",
    "fens1,fes1  =  H8hexahedron([x3 y0 z2;x4 y3 z3], m3,n5,p3);\n",
    "fens,fes1,fes2  =  mergemeshes(fens1, fes1, fens, fes, 1.0e6*eps(h));\n",
    "fes =  cat(fes1,fes2);"
   ]
  },
  {
   "cell_type": "markdown",
   "metadata": {},
   "source": [
    "The eight node hexahedra are subsequently converted to the serendipity quadratic elements."
   ]
  },
  {
   "cell_type": "code",
   "execution_count": 64,
   "metadata": {
    "collapsed": true
   },
   "outputs": [],
   "source": [
    "fens,fes  =  H8toH20(fens,fes);"
   ]
  },
  {
   "cell_type": "markdown",
   "metadata": {},
   "source": [
    "We define  the other parameters of the problem, the thermal conductivity  and the thermal loading driven by the Joule (resistive) heating."
   ]
  },
  {
   "cell_type": "code",
   "execution_count": 65,
   "metadata": {},
   "outputs": [],
   "source": [
    "kappa = 157*eye(3, 3)*phun(\"W/m/K\"); # W/m/K, conductivity matrix\n",
    "DV = 5*phun(\"V\"); # voltage drop in volt\n",
    "ell  = 2*(y1+y2)/2+2*(x1+x2)/2; # length of the conductor\n",
    "resistivity  =  1.1e-5*phun(\"Ohm*m\"); # Ohm m\n",
    "Q = DV^2/resistivity/ell^2; # rate of Joule heating, W/m^3\n",
    "T_substrate = 293; # substrate temperature in degrees Kelvin\n",
    "mater = MatHeatDiff(kappa);"
   ]
  },
  {
   "cell_type": "markdown",
   "metadata": {},
   "source": [
    "In the present tutorial we do not use an algorithm to obtain the solution.  All the steps of the solution process are spelled out."
   ]
  },
  {
   "cell_type": "markdown",
   "metadata": {},
   "source": [
    "We split the entire geometry of the actuator into  the part that is heated by the current running through the structure, and the rest.  Using a box we select the hexahedral finite elements that are  part of the hot leg of the structure."
   ]
  },
  {
   "cell_type": "code",
   "execution_count": 66,
   "metadata": {
    "collapsed": true
   },
   "outputs": [],
   "source": [
    "cl =  selectelem(fens, fes, box=[x0,x2,y0,y2,z0,z1],inflate = t/100);"
   ]
  },
  {
   "cell_type": "markdown",
   "metadata": {},
   "source": [
    "The two  FEMMs are then generated"
   ]
  },
  {
   "cell_type": "code",
   "execution_count": 67,
   "metadata": {},
   "outputs": [],
   "source": [
    "hotfemm  =  FEMMHeatDiff(GeoD(subset(fes,cl), GaussRule(3, 3), 0.), mater)\n",
    "coldfemm  = FEMMHeatDiff(GeoD(subset(fes,setdiff(collect(1:count(fes)), cl)),\n",
    "  GaussRule(3, 3), 0.), mater);"
   ]
  },
  {
   "cell_type": "markdown",
   "metadata": {},
   "source": [
    "We create the geometry  and the temperature  nodal fields."
   ]
  },
  {
   "cell_type": "code",
   "execution_count": 68,
   "metadata": {},
   "outputs": [],
   "source": [
    "geom = NodalField(fens.xyz)\n",
    "Temp = NodalField(zeros(size(fens.xyz,1),1));"
   ]
  },
  {
   "cell_type": "markdown",
   "metadata": {},
   "source": [
    "We select the ends  of the actuator legs where the actuator is connected to the substrate, and we apply a fixed temperature condition at these nodes."
   ]
  },
  {
   "cell_type": "code",
   "execution_count": 69,
   "metadata": {},
   "outputs": [],
   "source": [
    "fenids = selectnode(fens, box=[x0,x4,y0,y0,z0,z3],\n",
    "    inflate=t/1000) ; # fixed temperature on substrate\n",
    "setebc!(Temp, fenids, true, 1, T_substrate)\n",
    "applyebc!(Temp);"
   ]
  },
  {
   "cell_type": "markdown",
   "metadata": {},
   "source": [
    "The degrees of freedom of the temperature field are then numbered."
   ]
  },
  {
   "cell_type": "code",
   "execution_count": 70,
   "metadata": {},
   "outputs": [],
   "source": [
    "numberdofs!(Temp);"
   ]
  },
  {
   "cell_type": "markdown",
   "metadata": {},
   "source": [
    "Now we are ready to calculate the conductivity matrix.  Since the interior domain is split into two pieces, the conductivity matrix  is computed separately for each."
   ]
  },
  {
   "cell_type": "code",
   "execution_count": 71,
   "metadata": {},
   "outputs": [],
   "source": [
    "K = conductivity(hotfemm, geom, Temp) + conductivity(coldfemm, geom, Temp);"
   ]
  },
  {
   "cell_type": "markdown",
   "metadata": {},
   "source": [
    "The Joule heating is applied to the heated part of the domain only."
   ]
  },
  {
   "cell_type": "code",
   "execution_count": 72,
   "metadata": {},
   "outputs": [],
   "source": [
    "fi = ForceIntensity(FFlt[Q]);\n",
    "F = distribloads(hotfemm, geom, Temp, fi, 3);"
   ]
  },
  {
   "cell_type": "markdown",
   "metadata": {},
   "source": [
    "The prescribed temperature condition also generates loads on the free degrees of freedom (the nonzero essential boundary condition loads)."
   ]
  },
  {
   "cell_type": "code",
   "execution_count": 73,
   "metadata": {},
   "outputs": [],
   "source": [
    "F  = F + nzebcloadsconductivity(hotfemm, geom, Temp) + nzebcloadsconductivity(coldfemm, geom, Temp);"
   ]
  },
  {
   "cell_type": "markdown",
   "metadata": {},
   "source": [
    "We have  constructed the linear algebra representation for the overall  discrete system. Now we solve for the free degrees of freedom and distribute the solution  into the temperature field."
   ]
  },
  {
   "cell_type": "code",
   "execution_count": 74,
   "metadata": {},
   "outputs": [],
   "source": [
    "U = K\\F\n",
    "scattersysvec!(Temp,U[:]);"
   ]
  },
  {
   "cell_type": "markdown",
   "metadata": {},
   "source": [
    "The solution is presented as a line plot. Two series of nodes along the hot and cold legs  is selected, and their temperature is plotted against the distance along the leg."
   ]
  },
  {
   "cell_type": "code",
   "execution_count": 75,
   "metadata": {},
   "outputs": [
    {
     "data": {
      "text/html": [
       "<script src=\"C:\\Users\\PetrKrysl\\.julia\\v0.6\\Plots\\src\\backends\\..\\..\\deps\\plotly-latest.min.js\"></script>    <div id=\"d48f606b-8674-4e6e-a29f-c2b5779f5dd9\" style=\"width:600px;height:400px;\"></div>\n",
       "    <script>\n",
       "    PLOT = document.getElementById('d48f606b-8674-4e6e-a29f-c2b5779f5dd9');\n",
       "    Plotly.plot(PLOT, [{\"showlegend\":true,\"mode\":\"lines\",\"xaxis\":\"x\",\"colorbar\":{\"title\":\"\"},\"line\":{\"color\":\"rgba(255, 0, 0, 1.000)\",\"shape\":\"linear\",\"dash\":\"solid\",\"width\":1},\"y\":[293.0,325.6217576847506,357.74793129393015,389.37852082754563,420.51352628559084,451.15294766807284,481.2967849749838,510.9450382063293,540.0977073621051,568.7547924423163,596.9162934469595,624.5822103760339,651.7525432295414,678.427292007482,704.6064567098559,730.2900373366639,755.4780338878992,780.1704463635741,804.3672747636698,828.0685190882222,851.2741793372022,873.9842555106104,896.1987476084504,917.9176556307284,939.1409795774313,959.868719448577,980.1008752441463,999.837446964151,1019.0784346085751,1037.8238381774622,1056.0736576707652,1073.827893088524,1091.0865444307028,1107.8496116973283,1124.117094888385,1139.8889940038587,1155.1653090437605,1169.9460400081164,1184.2311868968986,1198.020749710123,1211.314728447784,1224.1131231098664,1236.4159336963892,1248.2231602073334,1259.534802642704,1270.3508610025635,1280.671335286848,1290.4962254953796,1299.8255316283373,1308.6592536864823,1316.9973916690533,1324.8399455731776,1332.1869154015887,1339.038301165299,1345.3941028532724,1351.2543204223268,1356.6189539121171,1361.488003485357,1365.861468974924,1369.739349728905,1373.121646304732,1376.0083611016064,1378.3994915090216,1380.2950275488297,1381.6949765824327,1382.5993736043463,1383.008175357231,1382.921225886507,1382.338605420755,1381.260814310139,1379.6870503498574,1377.6148188315644,1375.0442754836915,1371.9825307506244,1368.4111433336777,1364.2916035609874,1359.5785771607577,1354.40110340554,1348.1036868135677,1340.4324158169522,1327.076846344728],\"type\":\"scatter\",\"name\":\"hot leg\",\"yaxis\":\"y\",\"x\":[0.0,2.7500000000000046e-6,5.500000000000009e-6,8.250000000000007e-6,1.1000000000000006e-5,1.375000000000001e-5,1.6500000000000015e-5,1.9250000000000014e-5,2.2000000000000013e-5,2.475000000000002e-5,2.750000000000002e-5,3.0250000000000024e-5,3.300000000000003e-5,3.575000000000003e-5,3.850000000000003e-5,4.1250000000000034e-5,4.400000000000004e-5,4.675000000000004e-5,4.950000000000003e-5,5.225000000000004e-5,5.500000000000004e-5,5.775000000000005e-5,6.0500000000000054e-5,6.325000000000005e-5,6.600000000000005e-5,6.875000000000004e-5,7.150000000000006e-5,7.425000000000006e-5,7.700000000000006e-5,7.975000000000007e-5,8.250000000000007e-5,8.525000000000007e-5,8.800000000000008e-5,9.075000000000006e-5,9.350000000000006e-5,9.625000000000006e-5,9.900000000000008e-5,0.00010175000000000007,0.00010450000000000007,0.00010725000000000009,0.00011000000000000009,0.00011275000000000008,0.0001155000000000001,0.00011825000000000011,0.00012100000000000011,0.0001237500000000001,0.0001265000000000001,0.00012925000000000008,0.0001320000000000001,0.0001347500000000001,0.00013750000000000012,0.00014025000000000013,0.00014300000000000011,0.0001457500000000001,0.0001485000000000001,0.00015125000000000013,0.0001540000000000001,0.0001567500000000001,0.0001595000000000001,0.00016225000000000012,0.00016500000000000013,0.00016775000000000015,0.00017050000000000013,0.00017325000000000015,0.00017600000000000016,0.00017875000000000014,0.00018150000000000013,0.00018425000000000011,0.00018700000000000013,0.00018975000000000014,0.00019250000000000015,0.00019525000000000017,0.00019800000000000015,0.00020075000000000016,0.00020350000000000018,0.00020625000000000016,0.00020900000000000015,0.00021175000000000016,0.00021450000000000017,0.00021725000000000016,0.00022000000000000017]},{\"showlegend\":true,\"mode\":\"lines\",\"xaxis\":\"x\",\"colorbar\":{\"title\":\"\"},\"line\":{\"color\":\"rgba(0, 0, 255, 1.000)\",\"shape\":\"linear\",\"dash\":\"solid\",\"width\":1},\"y\":[293.0,322.5491808486581,352.09836169714083,381.64754255266456,411.1967234090761,440.7459042364323,470.2950850635195,499.8442659935795,529.3934469458491,558.9426274673365,588.4918080479301,618.0409899413877,647.590172582391,677.1393482507498,706.6885277198293,736.2377193080513,765.7869421950452,795.3360230031208,824.8853039474666,854.4344436993196,883.9850899026097,913.5314927043098,943.0888082765779,972.627354685208,1002.2541442464185,1031.6875553808227,1061.9150251021433,1090.6842066812274,1128.1003801872212],\"type\":\"scatter\",\"name\":\"cold leg\",\"yaxis\":\"y\",\"x\":[0.0,8.571428571428574e-6,1.714285714285715e-5,2.571428571428573e-5,3.428571428571431e-5,4.285714285714289e-5,5.142857142857147e-5,6.000000000000005e-5,6.857142857142862e-5,7.71428571428572e-5,8.571428571428578e-5,9.428571428571435e-5,0.00010285714285714293,0.00011142857142857151,0.00012000000000000008,0.00012857142857142866,0.00013714285714285724,0.00014571428571428583,0.00015428571428571442,0.00016285714285714297,0.00017142857142857156,0.00018000000000000015,0.0001885714285714287,0.00019714285714285726,0.00020571428571428585,0.00021428571428571444,0.00022285714285714302,0.0002314285714285716,0.00024000000000000017]}], {\"showlegend\":true,\"xaxis\":{\"tickvals\":[0.0,5.000000000000003e-5,0.00010000000000000006,0.0001500000000000001,0.00020000000000000012],\"ticks\":\"inside\",\"tickmode\":\"array\",\"domain\":[0.0658209390492855,0.9934383202099738],\"linecolor\":\"rgba(0, 0, 0, 1.000)\",\"showgrid\":true,\"title\":\"\",\"tickangle\":0,\"titlefont\":{\"color\":\"rgba(0, 0, 0, 1.000)\",\"family\":\"sans-serif\",\"size\":15},\"tickcolor\":\"rgba(0, 0, 0, 1.000)\",\"ticktext\":[\"0.00000\",\"0.00005\",\"0.00010\",\"0.00015\",\"0.00020\"],\"zeroline\":false,\"type\":\"-\",\"tickfont\":{\"color\":\"rgba(0, 0, 0, 1.000)\",\"family\":\"sans-serif\",\"size\":11},\"anchor\":\"y\"},\"paper_bgcolor\":\"rgba(255, 255, 255, 1.000)\",\"annotations\":[],\"height\":400,\"margin\":{\"l\":0,\"b\":20,\"r\":0,\"t\":20},\"plot_bgcolor\":\"rgba(255, 255, 255, 1.000)\",\"yaxis\":{\"tickvals\":[500.0,1000.0],\"ticks\":\"inside\",\"tickmode\":\"array\",\"domain\":[0.03762029746281716,0.9901574803149606],\"linecolor\":\"rgba(0, 0, 0, 1.000)\",\"showgrid\":true,\"title\":\"\",\"tickangle\":0,\"titlefont\":{\"color\":\"rgba(0, 0, 0, 1.000)\",\"family\":\"sans-serif\",\"size\":15},\"tickcolor\":\"rgba(0, 0, 0, 1.000)\",\"ticktext\":[\"500\",\"1000\"],\"zeroline\":false,\"type\":\"-\",\"tickfont\":{\"color\":\"rgba(0, 0, 0, 1.000)\",\"family\":\"sans-serif\",\"size\":11},\"anchor\":\"x\"},\"legend\":{\"bordercolor\":\"rgba(0, 0, 0, 1.000)\",\"bgcolor\":\"rgba(255, 255, 255, 1.000)\",\"font\":{\"color\":\"rgba(0, 0, 0, 1.000)\",\"family\":\"sans-serif\",\"size\":11},\"y\":1.0,\"x\":1.0},\"width\":600});\n",
       "    </script>\n"
      ]
     },
     "execution_count": 75,
     "metadata": {},
     "output_type": "execute_result"
    }
   ],
   "source": [
    "using Plots\n",
    "plotly()\n",
    "nList = selectnode(fens, box=[x1,x1,y0,y1,z1,z1], inflate=t/1000)\n",
    "y_i = geom.values[nList, 2]\n",
    "T_i = Temp.values[nList, 1]\n",
    "ix = sortperm(y_i)\n",
    "plot(y_i[ix], T_i[ix], color=:red, label= \"hot leg\")\n",
    "\n",
    "nList = selectnode(fens, box=[x3,x3,y0,y3,z2,z2], inflate=t/1000)\n",
    "y_o = geom.values[nList, 2]\n",
    "T_o = Temp.values[nList, 1]\n",
    "ix = sortperm(y_o)\n",
    "plot!(y_o[ix], T_o[ix], color=:blue, label= \"cold leg\")"
   ]
  }
 ],
 "metadata": {
  "kernelspec": {
   "display_name": "Julia 0.6.0",
   "language": "julia",
   "name": "julia-0.6"
  },
  "language_info": {
   "file_extension": ".jl",
   "mimetype": "application/julia",
   "name": "julia",
   "version": "0.6.0"
  }
 },
 "nbformat": 4,
 "nbformat_minor": 2
}
