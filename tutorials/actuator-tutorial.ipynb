{
 "cells": [
  {
   "cell_type": "markdown",
   "metadata": {},
   "source": [
    "# MEMS thermomechanical actuator\n",
    "\n",
    "The actuator is etched from crystalline silicon, produced layer-by-layer [http://hogwarts.ucsd.edu/~pkrysl/femwabaquspython-book/]. The termini are attached to contact plates which are part of the substrate, and the actuator is cantilevered from the termini.\n",
    "\n",
    "It is actuated by thermally-generated strains.  The heat is produced by running electric current through the structure, either through the loop that consists of the inner legs, or through the loop that consists of the outer legs.\n",
    "When the voltage to generate the current is applied on the termini of the inner legs, the inner legs warm up more than the rest of the structure, and since the inner legs are on a lower level then the outer legs and since they get longer, the actuator bends upwards.  If the voltage is applied to the termini of the outer legs, the outer legs warm up more than the inner legs, and since they get longer and since they are on a higher level than the inner legs the actuator bends downwards.\n",
    "Given the tiny size, the thermal inertia is very small, and the actuation can be performed at the rate of hundreds of cycles per second. Mechanical inertia can also be ignored, at least in the first approximation.\n",
    "Finally, we may assume that the silicon material properties do not change very much when the silicon is heated.\n",
    "\n",
    "In this example  we solve the heat conduction problem for the actuator."
   ]
  },
  {
   "cell_type": "markdown",
   "metadata": {},
   "source": [
    "The actuator has a plane of symmetry, which will be taken advantage of here and hence we will mesh only half of the actual geometry of the actuator. The complete mesh is generated  as a collection of meshes which are glued together. Each individual mesh is generated within a single  hexahedron volume. First we set up the geometry and  the meshing parameters."
   ]
  },
  {
   "cell_type": "code",
   "execution_count": 29,
   "metadata": {},
   "outputs": [],
   "source": [
    "using FinEtools\n",
    "using PyCall # for plotting\n",
    "x0 =  0.0*phun(\"micro*m\");\n",
    "x1 = x0+5.0*phun(\"micro*m\");\n",
    "x2 = x1+10.0*phun(\"micro*m\");\n",
    "x3 = x2+10.0*phun(\"micro*m\");\n",
    "x4 = x3+10.0*phun(\"micro*m\");\n",
    "y0 = 0.0*phun(\"micro*m\");\n",
    "y4 = 250.0*phun(\"micro*m\");\n",
    "y3 = y4-10.0*phun(\"micro*m\");\n",
    "y2 = y3-10.0*phun(\"micro*m\");\n",
    "y1 = y2-10.0*phun(\"micro*m\");\n",
    "t = 2.0*phun(\"micro*m\");\n",
    "h = 0.1*phun(\"micro*m\");\n",
    "z0 = 0.0*phun(\"micro*m\");\n",
    "z3 = 2*t+h;\n",
    "z2 = z3-t;\n",
    "z1 = z2-h;\n",
    "m1 = 2*2;\n",
    "m2 = 2*2;\n",
    "m3 = 2*2;\n",
    "m4 = 3*2;\n",
    "n1 = 20*2;\n",
    "n2 = 4*2;\n",
    "n3 = 2*2;\n",
    "n4 = 2*2;\n",
    "n5 = 7*2;\n",
    "p1 = 1*2;\n",
    "p2 = 1*2;\n",
    "p3 = 1*2;"
   ]
  },
  {
   "cell_type": "markdown",
   "metadata": {},
   "source": [
    "With these parameters at hand we generate  the meshes inside the hexahedra, always merging the new mesh with the old one."
   ]
  },
  {
   "cell_type": "code",
   "execution_count": 30,
   "metadata": {},
   "outputs": [],
   "source": [
    "fens,fes =  H8hexahedron([x1 y0 z0; x2 y1 z1],m2,n1,p1);\n",
    "fens1,fes1  =  H8hexahedron([x1 y1 z0;x2 y2 z1],m2,n2,p1);\n",
    "fens,fes1,fes2  =  mergemeshes(fens1, fes1, fens, fes, 1.0e6*eps(h));\n",
    "fes =  cat(fes1,fes2);\n",
    "fens1,fes1  =  H8hexahedron([x0 y1 z0;x1 y2 z1],m1,n2,p1);\n",
    "fens,fes1,fes2  =  mergemeshes(fens1, fes1, fens, fes, 1.0e6*eps(h));\n",
    "fes =  cat(fes1,fes2);\n",
    "fens1,fes1  =  H8hexahedron([x0 y1 z1;x1 y2 z2], m1,n2,p2);\n",
    "fens,fes1,fes2  =  mergemeshes(fens1, fes1, fens, fes, 1.0e6*eps(h));\n",
    "fes =  cat(fes1,fes2);\n",
    "fens1,fes1  =  H8hexahedron([x0 y1 z2;x1 y2 z3],m1,n2,p3);\n",
    "fens,fes1,fes2  =  mergemeshes(fens1, fes1, fens, fes, 1.0e6*eps(h));\n",
    "fes =  cat(fes1,fes2);\n",
    "fens1,fes1  =  H8hexahedron([x0 y2 z2;x1 y3 z3],m1,n3,p3);\n",
    "fens,fes1,fes2  =  mergemeshes(fens1, fes1, fens, fes, 1.0e6*eps(h));\n",
    "fes =  cat(fes1,fes2);\n",
    "fens1,fes1  =  H8hexahedron([x0 y3 z2;x1 y4 z3], m1,n4,p3);\n",
    "fens,fes1,fes2  =  mergemeshes(fens1, fes1, fens, fes, 1.0e6*eps(h));\n",
    "fes =  cat(fes1,fes2);\n",
    "fens1,fes1  =  H8hexahedron([x1 y3 z2;x3 y4 z3],m4,n4,p3);\n",
    "fens,fes1,fes2  =  mergemeshes(fens1, fes1, fens, fes, 1.0e6*eps(h));\n",
    "fes =  cat(fes1,fes2);\n",
    "fens1,fes1  =  H8hexahedron([x3 y3 z2;x4 y4 z3],m3,n4,p3);\n",
    "fens,fes1,fes2  =  mergemeshes(fens1, fes1, fens, fes, 1.0e6*eps(h));\n",
    "fes =  cat(fes1,fes2);\n",
    "fens1,fes1  =  H8hexahedron([x3 y0 z2;x4 y3 z3], m3,n5,p3);\n",
    "fens,fes1,fes2  =  mergemeshes(fens1, fes1, fens, fes, 1.0e6*eps(h));\n",
    "fes =  cat(fes1,fes2);"
   ]
  },
  {
   "cell_type": "markdown",
   "metadata": {},
   "source": [
    "The eight node hexahedra are subsequently converted to the serendipity quadratic elements."
   ]
  },
  {
   "cell_type": "code",
   "execution_count": 31,
   "metadata": {},
   "outputs": [],
   "source": [
    "fens,fes  =  H8toH20(fens,fes);"
   ]
  },
  {
   "cell_type": "markdown",
   "metadata": {},
   "source": [
    "We define  the other parameters of the problem, the thermal conductivity  and the thermal loading driven by the Joule (resistive) heating."
   ]
  },
  {
   "cell_type": "code",
   "execution_count": 32,
   "metadata": {},
   "outputs": [],
   "source": [
    "kappa = 157*eye(3, 3)*phun(\"W/m/K\"); # W/m/K, conductivity matrix\n",
    "DV = 5*phun(\"V\"); # voltage drop in volt\n",
    "ell  = 2*(y1+y2)/2+2*(x1+x2)/2; # length of the conductor\n",
    "resistivity  =  1.1e-5*phun(\"Ohm*m\"); # Ohm m\n",
    "Q = DV^2/resistivity/ell^2; # rate of Joule heating, W/m^3\n",
    "T_substrate = 293; # substrate temperature in degrees Kelvin\n",
    "mater = MatHeatDiff(kappa);"
   ]
  },
  {
   "cell_type": "markdown",
   "metadata": {},
   "source": [
    "In the present tutorial we do not use an algorithm to obtain the solution.  All the steps of the solution process are spelled out."
   ]
  },
  {
   "cell_type": "markdown",
   "metadata": {},
   "source": [
    "We split the entire geometry of the actuator into  the part that is heated by the current running through the structure, and the rest.  Using a box we select the hexahedral finite elements that are  part of the hot leg of the structure."
   ]
  },
  {
   "cell_type": "code",
   "execution_count": 33,
   "metadata": {},
   "outputs": [],
   "source": [
    "cl =  selectelem(fens, fes, box=[x0,x2,y0,y2,z0,z1],inflate = t/100);"
   ]
  },
  {
   "cell_type": "markdown",
   "metadata": {},
   "source": [
    "The two  FEMMs are then generated (please refer to the documentation for a detailed explanation of what the Finite Element Method Machine, FEMM, is for). One for the \"hot\" region (with the current running through) and the remaining \"cold\"  region (only affected by the heat conduction)."
   ]
  },
  {
   "cell_type": "code",
   "execution_count": 34,
   "metadata": {},
   "outputs": [],
   "source": [
    "hotfemm  =  FEMMHeatDiff(IntegData(subset(fes,cl), GaussRule(3, 3)), mater)\n",
    "coldfemm  = FEMMHeatDiff(IntegData(subset(fes,setdiff(collect(1:count(fes)), cl)),  GaussRule(3, 3)), mater);"
   ]
  },
  {
   "cell_type": "markdown",
   "metadata": {},
   "source": [
    "We create the geometry  and the temperature  nodal fields."
   ]
  },
  {
   "cell_type": "code",
   "execution_count": 35,
   "metadata": {},
   "outputs": [],
   "source": [
    "geom = NodalField(fens.xyz)\n",
    "Temp = NodalField(zeros(size(fens.xyz,1),1));"
   ]
  },
  {
   "cell_type": "markdown",
   "metadata": {},
   "source": [
    "We select the ends  of the actuator legs where the actuator is connected to the substrate, and we apply a fixed temperature condition at these nodes."
   ]
  },
  {
   "cell_type": "code",
   "execution_count": 36,
   "metadata": {},
   "outputs": [],
   "source": [
    "fenids = selectnode(fens, box=[x0,x4,y0,y0,z0,z3],\n",
    "    inflate=t/1000) ; # fixed temperature on substrate\n",
    "setebc!(Temp, fenids, true, 1, T_substrate)\n",
    "applyebc!(Temp);"
   ]
  },
  {
   "cell_type": "markdown",
   "metadata": {},
   "source": [
    "The degrees of freedom of the temperature field are then numbered."
   ]
  },
  {
   "cell_type": "code",
   "execution_count": 37,
   "metadata": {},
   "outputs": [],
   "source": [
    "numberdofs!(Temp);"
   ]
  },
  {
   "cell_type": "markdown",
   "metadata": {},
   "source": [
    "Now we are ready to calculate the conductivity matrix.  Since the interior domain is split into two pieces, the conductivity matrix  is computed separately for each."
   ]
  },
  {
   "cell_type": "code",
   "execution_count": 38,
   "metadata": {},
   "outputs": [],
   "source": [
    "K = conductivity(hotfemm, geom, Temp) + conductivity(coldfemm, geom, Temp);"
   ]
  },
  {
   "cell_type": "markdown",
   "metadata": {},
   "source": [
    "The Joule heating is applied to the heated part of the domain only."
   ]
  },
  {
   "cell_type": "code",
   "execution_count": 39,
   "metadata": {},
   "outputs": [],
   "source": [
    "fi = ForceIntensity(FFlt[Q]);\n",
    "F = distribloads(hotfemm, geom, Temp, fi, 3);"
   ]
  },
  {
   "cell_type": "markdown",
   "metadata": {},
   "source": [
    "The prescribed temperature condition also generates loads on the free degrees of freedom (the nonzero essential boundary condition loads)."
   ]
  },
  {
   "cell_type": "code",
   "execution_count": 40,
   "metadata": {},
   "outputs": [],
   "source": [
    "F  = F + nzebcloadsconductivity(hotfemm, geom, Temp) + nzebcloadsconductivity(coldfemm, geom, Temp);"
   ]
  },
  {
   "cell_type": "markdown",
   "metadata": {},
   "source": [
    "We have  constructed the linear algebra representation for the overall  discrete system. Now we solve for the free degrees of freedom and distribute the solution  into the temperature field."
   ]
  },
  {
   "cell_type": "code",
   "execution_count": 41,
   "metadata": {},
   "outputs": [],
   "source": [
    "U = K\\F\n",
    "scattersysvec!(Temp,U[:]);"
   ]
  },
  {
   "cell_type": "raw",
   "metadata": {},
   "source": [
    "The solution is presented as a line plot. Two series of nodes along the hot and cold legs  are selected, and their temperature is plotted against the distance along the leg."
   ]
  },
  {
   "cell_type": "code",
   "execution_count": 42,
   "metadata": {},
   "outputs": [],
   "source": [
    "@pyimport matplotlib.pyplot as plt\n",
    "plt.style[:use](\"seaborn-whitegrid\")\n",
    "fig = plt.figure() \n",
    "ax = plt.axes()\n",
    "nList = selectnode(fens, box=[x1,x1,y0,y1,z1,z1], inflate=t/1000)\n",
    "y_i = geom.values[nList, 2]\n",
    "T_i = Temp.values[nList, 1]\n",
    "ix = sortperm(y_i)\n",
    "ax[:plot](y_i[ix], T_i[ix], color=:red, label= \"hot leg\")\n",
    "nList = selectnode(fens, box=[x3,x3,y0,y3,z2,z2], inflate=t/1000)\n",
    "y_o = geom.values[nList, 2]\n",
    "T_o = Temp.values[nList, 1]\n",
    "ix = sortperm(y_o)\n",
    "ax[:plot](y_o[ix], T_o[ix], color=:blue, label= \"cold leg\")\n",
    "ax[:set_xlabel](\"Distance  [m]\")\n",
    "ax[:set_ylabel](\"Temperature [degree Kelvin]\")\n",
    "plt.legend()\n",
    "plt.show()"
   ]
  }
 ],
 "metadata": {
  "kernelspec": {
   "display_name": "Julia 0.6.1",
   "language": "julia",
   "name": "julia-0.6"
  },
  "language_info": {
   "file_extension": ".jl",
   "mimetype": "application/julia",
   "name": "julia",
   "version": "0.6.1"
  }
 },
 "nbformat": 4,
 "nbformat_minor": 2
}
