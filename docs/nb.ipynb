{
 "cells": [
  {
   "cell_type": "markdown",
   "metadata": {},
   "source": [
    "# Vibration example  solved with FinEtools and Abaqus"
   ]
  },
  {
   "cell_type": "markdown",
   "metadata": {},
   "source": [
    "In this example we solve for the free-vibration modes of unit cube  of almost incompressible material.\n",
    "\n",
    "The solution with the FinEtools package is compared with a commercial software  solution, and hence we also export the model to Abaqus."
   ]
  },
  {
   "cell_type": "markdown",
   "metadata": {},
   "source": [
    "## Reference: \n",
    "Puso MA, Solberg J (2006) A stabilized nodally integrated\n",
    "tetrahedral. International Journal for Numerical Methods in\n",
    "Engineering 67: 841-867."
   ]
  },
  {
   "cell_type": "markdown",
   "metadata": {},
   "source": [
    "We begin by defining  a few variables."
   ]
  },
  {
   "cell_type": "code",
   "execution_count": 62,
   "metadata": {
    "collapsed": true
   },
   "outputs": [],
   "source": [
    "using FinEtools\n",
    "using FinEtools.MeshExportModule\n",
    "\n",
    "E = 1*phun(\"PA\");\n",
    "nu = 0.499;\n",
    "rho = 1*phun(\"KG/M^3\");\n",
    "a = 1*phun(\"M\"); # length of the side of the cube"
   ]
  },
  {
   "cell_type": "markdown",
   "metadata": {},
   "source": [
    "We generate a mesh of  5 x 5 x 5 serendipity 20-node hexahedral elements in a regular grid."
   ]
  },
  {
   "cell_type": "code",
   "execution_count": 63,
   "metadata": {},
   "outputs": [],
   "source": [
    "fens,fes  = H20block(a, a, a, 5, 5, 5);"
   ]
  },
  {
   "cell_type": "markdown",
   "metadata": {},
   "source": [
    "The problem is solved in three dimensions and hence we create the  displacement field as three-dimensional with three displacement components per node. The degrees of freedom are then numbered  (note that no essential boundary conditions are applied since the cube is free-floating)."
   ]
  },
  {
   "cell_type": "code",
   "execution_count": 64,
   "metadata": {},
   "outputs": [],
   "source": [
    "geom = NodalField(fens.xyz)\n",
    "u = NodalField(zeros(size(fens.xyz,1),3)) # displacement field\n",
    "numberdofs!(u);"
   ]
  },
  {
   "cell_type": "markdown",
   "metadata": {},
   "source": [
    "The model is fully three-dimensional, and hence the material model  and the FEMM created below need to refer to an appropriate model-reduction scheme."
   ]
  },
  {
   "cell_type": "code",
   "execution_count": 65,
   "metadata": {},
   "outputs": [],
   "source": [
    "MR = DeforModelRed3D\n",
    "material=MatDeforElastIso(MR, rho, E, nu, 0.0);"
   ]
  },
  {
   "cell_type": "markdown",
   "metadata": {},
   "source": [
    "Note that we compute the stiffness  and the mass matrix using different FEMMs. The difference  is only the quadrature rule chosen: in order to make the mass matrix  non-singular, the accurate  Gauss rule  needs to be used, whereas for the stiffness matrix we want to avoid the excessive stiffness  and therefore  the reduced Gauss rule is used."
   ]
  },
  {
   "cell_type": "code",
   "execution_count": 66,
   "metadata": {},
   "outputs": [],
   "source": [
    "femm = FEMMDeforLinear(MR, IntegData(fes, GaussRule(3,2)), material);\n",
    "K =stiffness(femm, geom, u)\n",
    "femm = FEMMDeforLinear(MR, IntegData(fes, GaussRule(3,3)), material)\n",
    "M =mass(femm, geom, u);"
   ]
  },
  {
   "cell_type": "markdown",
   "metadata": {},
   "source": [
    "The free vibration problem  can now be solved.   In order for the eigenvalue solver  to work well, we apply mass-shifting (otherwise the first matrix given to the solver would be singular). We specify the number of eigenvalues to solve for, and we  guess the frequency  with which to shift as 0.01 Hz."
   ]
  },
  {
   "cell_type": "code",
   "execution_count": 67,
   "metadata": {
    "collapsed": true
   },
   "outputs": [],
   "source": [
    "neigvs = 20                   # how many eigenvalues\n",
    "OmegaShift = (0.01*2*pi)^2;"
   ]
  },
  {
   "cell_type": "markdown",
   "metadata": {},
   "source": [
    "The `eigs` routine can now be invoked to solve for a given number of frequencies from the smallest-magnitude end of the spectrum.\n",
    "Note that the mass shifting  needs to be undone when the solution is obtained."
   ]
  },
  {
   "cell_type": "code",
   "execution_count": 68,
   "metadata": {},
   "outputs": [
    {
     "name": "stdout",
     "output_type": "stream",
     "text": [
      "Eigenvalues: [2.73674e-7, 3.00469e-7, 3.14245e-7, 3.19947e-7, 3.42634e-7, 3.56348e-7, 0.262723, 0.262723, 0.357791, 0.357791, 0.357791, 0.36088, 0.36088, 0.36088, 0.408199, 0.408397, 0.408397, 0.461756, 0.461756, 0.461756] [Hz]\n"
     ]
    }
   ],
   "source": [
    "d,v,nev,nconv = eigs(K+OmegaShift*M, M; nev=neigvs, which=:SM)\n",
    "d = d - OmegaShift;\n",
    "fs = real(sqrt.(complex(d)))/(2*pi)\n",
    "println(\"Eigenvalues: $fs [Hz]\")"
   ]
  },
  {
   "cell_type": "markdown",
   "metadata": {},
   "source": [
    "The computed mode can be visualized in Paraview. Use the  \"Animation view\" to produce moving pictures for the mode."
   ]
  },
  {
   "cell_type": "code",
   "execution_count": 69,
   "metadata": {},
   "outputs": [],
   "source": [
    "mode = 7\n",
    "scattersysvec!(u, v[:,mode])\n",
    "File =  \"unit_cube_modes.vtk\"\n",
    "vtkexportmesh(File, fens, fes; vectors=[(\"mode$mode\", u.values)])\n",
    "@async run(`\"paraview.exe\" $File`);"
   ]
  },
  {
   "cell_type": "markdown",
   "metadata": {},
   "source": [
    "Finally  we export the model to Abaqus.  Note that we specify the mass density (necessary for dynamics)."
   ]
  },
  {
   "cell_type": "code",
   "execution_count": 70,
   "metadata": {
    "collapsed": true
   },
   "outputs": [],
   "source": [
    "AE = AbaqusExporter(\"unit_cube_modes_h20\");\n",
    "# AE.ios = STDOUT;\n",
    "HEADING(AE, \"Vibration modes of unit cube  of almost incompressible material.\");\n",
    "COMMENT(AE, \"The  first six frequencies are rigid body modes.\");\n",
    "COMMENT(AE, \"The  first nonzero frequency (7) should be around 0.26 Hz\");\n",
    "PART(AE, \"part1\");\n",
    "END_PART(AE);\n",
    "ASSEMBLY(AE, \"ASSEM1\");\n",
    "INSTANCE(AE, \"INSTNC1\", \"PART1\");\n",
    "NODE(AE, fens.xyz);\n",
    "COMMENT(AE, \"The hybrid form of the serendipity hexahedron is chosen because\");\n",
    "COMMENT(AE, \"the material is  nearly incompressible.\");\n",
    "ELEMENT(AE, \"C3D20RH\", \"AllElements\", 1, fes.conn)\n",
    "ORIENTATION(AE, \"GlobalOrientation\", vec([1. 0 0]), vec([0 1. 0]));\n",
    "SOLID_SECTION(AE, \"elasticity\", \"GlobalOrientation\", \"AllElements\");\n",
    "END_INSTANCE(AE);\n",
    "END_ASSEMBLY(AE);\n",
    "MATERIAL(AE, \"elasticity\")\n",
    "ELASTIC(AE, E, nu)\n",
    "DENSITY(AE, rho)\n",
    "STEP_FREQUENCY(AE, neigvs)\n",
    "END_STEP(AE)\n",
    "close(AE)"
   ]
  },
  {
   "cell_type": "markdown",
   "metadata": {},
   "source": [
    "It remains is to load the model into Abaqus and execute it as a job. Alternatively Abaqus can be called on the input file to carry out the analysis at the command line as\n",
    "```\n",
    "abaqus job=unit_cube_modes_h20.inp\n",
    "```\n",
    "The output database `unit_cube_modes_h20.odb` can then be loaded for postprocessing, for instance from the command line as\n",
    "```\n",
    "abaqus viewer database=unit_cube_modes_h20.odb\n",
    "```\n",
    "Don't forget to compare the computed frequencies and the mode shapes.  For instance, the first six frequencies should be nearly 0, and the seventh frequency should be approximately  0.262 Hz. There may be  very minor differences due to the fact that  the\n",
    "FinEtools formulation is purely displacement-based, whereas the Abaqus model is hybrid (displacement plus pressure)."
   ]
  }
 ],
 "metadata": {
  "kernelspec": {
   "display_name": "Julia 0.6.0",
   "language": "julia",
   "name": "julia-0.6"
  },
  "language_info": {
   "file_extension": ".jl",
   "mimetype": "application/julia",
   "name": "julia",
   "version": "0.6.0"
  }
 },
 "nbformat": 4,
 "nbformat_minor": 2
}
